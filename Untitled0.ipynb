{
  "nbformat": 4,
  "nbformat_minor": 0,
  "metadata": {
    "colab": {
      "name": "Untitled0.ipynb",
      "version": "0.3.2",
      "provenance": [],
      "include_colab_link": true
    },
    "kernelspec": {
      "name": "python3",
      "display_name": "Python 3"
    }
  },
  "cells": [
    {
      "cell_type": "markdown",
      "metadata": {
        "id": "view-in-github",
        "colab_type": "text"
      },
      "source": [
        "[View in Colaboratory](https://colab.research.google.com/github/fayeed/newsAnalysis/blob/master/Untitled0.ipynb)"
      ]
    },
    {
      "metadata": {
        "id": "riu7FZzv9Pd7",
        "colab_type": "code",
        "colab": {}
      },
      "cell_type": "code",
      "source": [
        "!pip install -q spacy"
      ],
      "execution_count": 0,
      "outputs": []
    },
    {
      "metadata": {
        "id": "Zhyke_sJ9lio",
        "colab_type": "code",
        "colab": {}
      },
      "cell_type": "code",
      "source": [
        "!python -m spacy download en"
      ],
      "execution_count": 0,
      "outputs": []
    },
    {
      "metadata": {
        "id": "J4PdKfQe8mql",
        "colab_type": "code",
        "colab": {}
      },
      "cell_type": "code",
      "source": [
        "import spacy"
      ],
      "execution_count": 0,
      "outputs": []
    },
    {
      "metadata": {
        "id": "9rs38lb_8rEV",
        "colab_type": "code",
        "colab": {}
      },
      "cell_type": "code",
      "source": [
        "nlp = spacy.load('en')"
      ],
      "execution_count": 0,
      "outputs": []
    },
    {
      "metadata": {
        "id": "W8H_QkRs9w9d",
        "colab_type": "code",
        "colab": {}
      },
      "cell_type": "code",
      "source": [
        "text = (u\"When Sebastian Thrun started working on self-driving cars at \"\n",
        "        u\"Google in 2007, few people outside of the company took him \"\n",
        "        u\"seriously. “I can tell you very senior CEOs of major American \"\n",
        "        u\"car companies would shake my hand and turn away because I wasn’t \"\n",
        "        u\"worth talking to,” said Thrun, now the co-founder and CEO of \"\n",
        "        u\"online higher education startup Udacity, in an interview with \"\n",
        "        u\"Recode earlier this week.\")\n",
        "doc = nlp(text)"
      ],
      "execution_count": 0,
      "outputs": []
    },
    {
      "metadata": {
        "id": "3my9d9yI90VY",
        "colab_type": "code",
        "colab": {
          "base_uri": "https://localhost:8080/",
          "height": 136
        },
        "outputId": "43517465-0585-4f6a-a8d1-880b39f2cf75"
      },
      "cell_type": "code",
      "source": [
        "for entity in doc.ents:\n",
        "    print(entity.text, entity.label_)"
      ],
      "execution_count": 14,
      "outputs": [
        {
          "output_type": "stream",
          "text": [
            "Sebastian Thrun PERSON\n",
            "Google ORG\n",
            "2007 DATE\n",
            "American NORP\n",
            "Thrun PERSON\n",
            "Recode ORG\n",
            "earlier this week DATE\n"
          ],
          "name": "stdout"
        }
      ]
    },
    {
      "metadata": {
        "id": "eItWtWYj95Wz",
        "colab_type": "code",
        "colab": {
          "base_uri": "https://localhost:8080/",
          "height": 34
        },
        "outputId": "1cc6fc92-10a3-4b04-8a51-fad8b6f8dd92"
      },
      "cell_type": "code",
      "source": [
        "doc1 = nlp(u\"my fries were super gross\")\n",
        "doc2 = nlp(u\"such disgusting fries\")\n",
        "similarity = doc1.similarity(doc2)\n",
        "print(doc1.text, doc2.text, similarity)"
      ],
      "execution_count": 15,
      "outputs": [
        {
          "output_type": "stream",
          "text": [
            "my fries were super gross such disgusting fries 0.7139701576579747\n"
          ],
          "name": "stdout"
        }
      ]
    }
  ]
}