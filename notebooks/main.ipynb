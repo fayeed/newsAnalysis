{
 "cells": [
  {
   "cell_type": "code",
   "execution_count": 1,
   "metadata": {},
   "outputs": [
    {
     "name": "stderr",
     "output_type": "stream",
     "text": [
      "Using TensorFlow backend.\n"
     ]
    }
   ],
   "source": [
    "import keras \n",
    "import numpy as np\n",
    "from keras.preprocessing.text import Tokenizer\n",
    "import numpy as np\n",
    "import pandas as pd\n",
    "from keras.models import Sequential\n",
    "from keras.layers import Dense\n",
    "from keras.preprocessing.sequence import pad_sequences\n",
    "from keras.layers import Input, Dense, Dropout, Embedding, LSTM, Flatten, GlobalAveragePooling1D, LSTM, Reshape,Conv1D\n",
    "from keras.models import Model, Sequential\n",
    "from keras.utils import to_categorical\n",
    "from keras.callbacks import ModelCheckpoint\n",
    "import seaborn as sns\n",
    "import matplotlib.pyplot as plt\n",
    "from sklearn.model_selection import train_test_split\n",
    "from sklearn.metrics import accuracy_score, confusion_matrix\n",
    "import itertools\n",
    "from sklearn.preprocessing import LabelEncoder, OneHotEncoder"
   ]
  },
  {
   "cell_type": "code",
   "execution_count": 2,
   "metadata": {},
   "outputs": [
    {
     "data": {
      "text/html": [
       "<style>.container { width:100% !important; }</style>"
      ],
      "text/plain": [
       "<IPython.core.display.HTML object>"
      ]
     },
     "metadata": {},
     "output_type": "display_data"
    }
   ],
   "source": [
    "%matplotlib inline\n",
    "from IPython.core.display import display, HTML\n",
    "display(HTML(\"<style>.container { width:100% !important; }</style>\"))"
   ]
  },
  {
   "cell_type": "code",
   "execution_count": 3,
   "metadata": {},
   "outputs": [],
   "source": [
    "# train_data = pd.read_csv('text_emotion.csv')\n",
    "train_data = pd.read_csv('test_data.csv')"
   ]
  },
  {
   "cell_type": "code",
   "execution_count": 4,
   "metadata": {},
   "outputs": [
    {
     "data": {
      "text/html": [
       "<div>\n",
       "<style scoped>\n",
       "    .dataframe tbody tr th:only-of-type {\n",
       "        vertical-align: middle;\n",
       "    }\n",
       "\n",
       "    .dataframe tbody tr th {\n",
       "        vertical-align: top;\n",
       "    }\n",
       "\n",
       "    .dataframe thead th {\n",
       "        text-align: right;\n",
       "    }\n",
       "</style>\n",
       "<table border=\"1\" class=\"dataframe\">\n",
       "  <thead>\n",
       "    <tr style=\"text-align: right;\">\n",
       "      <th></th>\n",
       "      <th>content</th>\n",
       "      <th>sentiment</th>\n",
       "    </tr>\n",
       "  </thead>\n",
       "  <tbody>\n",
       "    <tr>\n",
       "      <th>0</th>\n",
       "      <td>it makes me so fucking irate jesus. nobody is ...</td>\n",
       "      <td>anger</td>\n",
       "    </tr>\n",
       "    <tr>\n",
       "      <th>1</th>\n",
       "      <td>Lol Adam the Bull with his fake outrage...</td>\n",
       "      <td>anger</td>\n",
       "    </tr>\n",
       "    <tr>\n",
       "      <th>2</th>\n",
       "      <td>@THATSSHAWTYLO passed away early this morning ...</td>\n",
       "      <td>anger</td>\n",
       "    </tr>\n",
       "    <tr>\n",
       "      <th>3</th>\n",
       "      <td>@Kristiann1125 lol wow i was gonna say really?...</td>\n",
       "      <td>anger</td>\n",
       "    </tr>\n",
       "    <tr>\n",
       "      <th>4</th>\n",
       "      <td>I need a \\xf0\\x9f\\x8d\\xb1sushi date\\xf0\\x9f\\x8...</td>\n",
       "      <td>anger</td>\n",
       "    </tr>\n",
       "  </tbody>\n",
       "</table>\n",
       "</div>"
      ],
      "text/plain": [
       "                                             content sentiment\n",
       "0  it makes me so fucking irate jesus. nobody is ...     anger\n",
       "1         Lol Adam the Bull with his fake outrage...     anger\n",
       "2  @THATSSHAWTYLO passed away early this morning ...     anger\n",
       "3  @Kristiann1125 lol wow i was gonna say really?...     anger\n",
       "4  I need a \\xf0\\x9f\\x8d\\xb1sushi date\\xf0\\x9f\\x8...     anger"
      ]
     },
     "execution_count": 4,
     "metadata": {},
     "output_type": "execute_result"
    }
   ],
   "source": [
    "train_data.head()"
   ]
  },
  {
   "cell_type": "code",
   "execution_count": 5,
   "metadata": {},
   "outputs": [],
   "source": [
    "train_data['target'] = train_data.sentiment.astype('category').cat.codes"
   ]
  },
  {
   "cell_type": "code",
   "execution_count": 6,
   "metadata": {},
   "outputs": [],
   "source": [
    "train_data['num_words'] = train_data.content.apply(lambda x : len(x.split()) if type(x) == str else 0)"
   ]
  },
  {
   "cell_type": "code",
   "execution_count": 7,
   "metadata": {},
   "outputs": [],
   "source": [
    "bins=[0,50,75, np.inf]\n",
    "train_data['bins']=pd.cut(train_data.num_words, bins=[0,100,300,500,800, np.inf], labels=['0-100', '100-300', '300-500','500-800' ,'>800'])"
   ]
  },
  {
   "cell_type": "code",
   "execution_count": 8,
   "metadata": {},
   "outputs": [],
   "source": [
    "word_distribution = train_data.groupby('bins').size().reset_index().rename(columns={0:'counts'})"
   ]
  },
  {
   "cell_type": "code",
   "execution_count": 9,
   "metadata": {},
   "outputs": [
    {
     "data": {
      "text/html": [
       "<div>\n",
       "<style scoped>\n",
       "    .dataframe tbody tr th:only-of-type {\n",
       "        vertical-align: middle;\n",
       "    }\n",
       "\n",
       "    .dataframe tbody tr th {\n",
       "        vertical-align: top;\n",
       "    }\n",
       "\n",
       "    .dataframe thead th {\n",
       "        text-align: right;\n",
       "    }\n",
       "</style>\n",
       "<table border=\"1\" class=\"dataframe\">\n",
       "  <thead>\n",
       "    <tr style=\"text-align: right;\">\n",
       "      <th></th>\n",
       "      <th>bins</th>\n",
       "      <th>counts</th>\n",
       "    </tr>\n",
       "  </thead>\n",
       "  <tbody>\n",
       "    <tr>\n",
       "      <th>0</th>\n",
       "      <td>0-100</td>\n",
       "      <td>7098</td>\n",
       "    </tr>\n",
       "    <tr>\n",
       "      <th>1</th>\n",
       "      <td>100-300</td>\n",
       "      <td>0</td>\n",
       "    </tr>\n",
       "    <tr>\n",
       "      <th>2</th>\n",
       "      <td>300-500</td>\n",
       "      <td>0</td>\n",
       "    </tr>\n",
       "    <tr>\n",
       "      <th>3</th>\n",
       "      <td>500-800</td>\n",
       "      <td>0</td>\n",
       "    </tr>\n",
       "    <tr>\n",
       "      <th>4</th>\n",
       "      <td>&gt;800</td>\n",
       "      <td>0</td>\n",
       "    </tr>\n",
       "  </tbody>\n",
       "</table>\n",
       "</div>"
      ],
      "text/plain": [
       "      bins  counts\n",
       "0    0-100    7098\n",
       "1  100-300       0\n",
       "2  300-500       0\n",
       "3  500-800       0\n",
       "4     >800       0"
      ]
     },
     "execution_count": 9,
     "metadata": {},
     "output_type": "execute_result"
    }
   ],
   "source": [
    "word_distribution.head()"
   ]
  },
  {
   "cell_type": "code",
   "execution_count": 10,
   "metadata": {},
   "outputs": [
    {
     "data": {
      "text/plain": [
       "Text(0.5, 1.0, 'Word distribution per bin')"
      ]
     },
     "execution_count": 10,
     "metadata": {},
     "output_type": "execute_result"
    },
    {
     "data": {
      "image/png": "[encoded data removed]",
      "text/plain": [
       "<Figure size 432x288 with 1 Axes>"
      ]
     },
     "metadata": {
      "needs_background": "light"
     },
     "output_type": "display_data"
    }
   ],
   "source": [
    "sns.barplot(x='bins', y='counts', data=word_distribution).set_title(\"Word distribution per bin\")"
   ]
  },
  {
   "cell_type": "code",
   "execution_count": 11,
   "metadata": {},
   "outputs": [
    {
     "data": {
      "text/plain": [
       "array(['anger', 'fear', 'joy', 'sadness'], dtype=object)"
      ]
     },
     "execution_count": 11,
     "metadata": {},
     "output_type": "execute_result"
    }
   ],
   "source": [
    "num_class = len(np.unique(train_data.sentiment.values))\n",
    "y = train_data['target'].values\n",
    "# num_class\n",
    "np.unique(train_data.sentiment.values)"
   ]
  },
  {
   "cell_type": "code",
   "execution_count": 12,
   "metadata": {},
   "outputs": [],
   "source": [
    "MAX_LENGTH = 100\n",
    "tokenizer = Tokenizer()\n",
    "tokenizer.fit_on_texts(train_data.content.values)\n",
    "post_seq = tokenizer.texts_to_sequences(train_data.content.values)\n",
    "post_seq_padded = pad_sequences(post_seq, maxlen=MAX_LENGTH)"
   ]
  },
  {
   "cell_type": "code",
   "execution_count": 13,
   "metadata": {},
   "outputs": [
    {
     "data": {
      "text/plain": [
       "array([1, 1, 2, ..., 3, 2, 0], dtype=int8)"
      ]
     },
     "execution_count": 13,
     "metadata": {},
     "output_type": "execute_result"
    }
   ],
   "source": [
    "X_train, X_test, y_train, y_test = train_test_split(post_seq_padded, y, test_size=0.05)\n",
    "y_train"
   ]
  },
  {
   "cell_type": "code",
   "execution_count": 14,
   "metadata": {},
   "outputs": [],
   "source": [
    "vocab_size = len(tokenizer.word_index) + 1"
   ]
  },
  {
   "cell_type": "code",
   "execution_count": 15,
   "metadata": {},
   "outputs": [
    {
     "name": "stdout",
     "output_type": "stream",
     "text": [
      "_________________________________________________________________\n",
      "Layer (type)                 Output Shape              Param #   \n",
      "=================================================================\n",
      "input_1 (InputLayer)         (None, 100)               0         \n",
      "_________________________________________________________________\n",
      "embedding_1 (Embedding)      (None, 100, 128)          2131072   \n",
      "_________________________________________________________________\n",
      "conv1d_1 (Conv1D)            (None, 96, 128)           82048     \n",
      "_________________________________________________________________\n",
      "lstm_1 (LSTM)                (None, 96, 64)            49408     \n",
      "_________________________________________________________________\n",
      "dropout_1 (Dropout)          (None, 96, 64)            0         \n",
      "_________________________________________________________________\n",
      "lstm_2 (LSTM)                (None, 32)                12416     \n",
      "_________________________________________________________________\n",
      "dropout_2 (Dropout)          (None, 32)                0         \n",
      "_________________________________________________________________\n",
      "dense_1 (Dense)              (None, 10)                330       \n",
      "_________________________________________________________________\n",
      "dropout_3 (Dropout)          (None, 10)                0         \n",
      "_________________________________________________________________\n",
      "dense_2 (Dense)              (None, 4)                 44        \n",
      "=================================================================\n",
      "Total params: 2,275,318\n",
      "Trainable params: 2,275,318\n",
      "Non-trainable params: 0\n",
      "_________________________________________________________________\n",
      "Train on 6068 samples, validate on 675 samples\n",
      "Epoch 1/10\n",
      "6068/6068 [==============================] - 18s 3ms/step - loss: 1.2984 - acc: 0.3724 - val_loss: 1.0749 - val_acc: 0.5111\n",
      "\n",
      "Epoch 00001: val_acc improved from -inf to 0.51111, saving model to weights-simple.hdf5\n",
      "Epoch 2/10\n",
      "6068/6068 [==============================] - 16s 3ms/step - loss: 0.7704 - acc: 0.6991 - val_loss: 0.6777 - val_acc: 0.7422.\n",
      "\n",
      "Epoch 00002: val_acc improved from 0.51111 to 0.74222, saving model to weights-simple.hdf5\n",
      "Epoch 3/10\n",
      "6068/6068 [==============================] - 16s 3ms/step - loss: 0.4143 - acc: 0.8675 - val_loss: 0.5488 - val_acc: 0.8178\n",
      "\n",
      "Epoch 00003: val_acc improved from 0.74222 to 0.81778, saving model to weights-simple.hdf5\n",
      "Epoch 4/10\n",
      "6068/6068 [==============================] - 16s 3ms/step - loss: 0.2667 - acc: 0.9270 - val_loss: 0.6441 - val_acc: 0.8030\n",
      "\n",
      "Epoch 00004: val_acc did not improve from 0.81778\n",
      "Epoch 5/10\n",
      "6068/6068 [==============================] - 17s 3ms/step - loss: 0.2043 - acc: 0.9422 - val_loss: 0.5217 - val_acc: 0.8430\n",
      "\n",
      "Epoch 00005: val_acc improved from 0.81778 to 0.84296, saving model to weights-simple.hdf5\n",
      "Epoch 6/10\n",
      "6068/6068 [==============================] - 17s 3ms/step - loss: 0.1636 - acc: 0.9522 - val_loss: 0.6627 - val_acc: 0.8296\n",
      "\n",
      "Epoch 00006: val_acc did not improve from 0.84296\n",
      "Epoch 7/10\n",
      "6068/6068 [==============================] - 18s 3ms/step - loss: 0.1350 - acc: 0.9544 - val_loss: 0.5171 - val_acc: 0.8622\n",
      "\n",
      "Epoch 00007: val_acc improved from 0.84296 to 0.86222, saving model to weights-simple.hdf5\n",
      "Epoch 8/10\n",
      "6068/6068 [==============================] - 17s 3ms/step - loss: 0.1188 - acc: 0.9585 - val_loss: 0.4926 - val_acc: 0.8667\n",
      "\n",
      "Epoch 00008: val_acc improved from 0.86222 to 0.86667, saving model to weights-simple.hdf5\n",
      "Epoch 9/10\n",
      "6068/6068 [==============================] - 16s 3ms/step - loss: 0.1095 - acc: 0.9595 - val_loss: 0.5272 - val_acc: 0.8711\n",
      "\n",
      "Epoch 00009: val_acc improved from 0.86667 to 0.87111, saving model to weights-simple.hdf5\n",
      "Epoch 10/10\n",
      "6068/6068 [==============================] - 17s 3ms/step - loss: 0.0923 - acc: 0.9632 - val_loss: 0.5692 - val_acc: 0.8667\n",
      "\n",
      "Epoch 00010: val_acc did not improve from 0.87111\n"
     ]
    }
   ],
   "source": [
    "inputs = Input(shape=(MAX_LENGTH, ))\n",
    "embedding_layer = Embedding(vocab_size,\n",
    "                            128,\n",
    "                            input_length=MAX_LENGTH)(inputs)\n",
    "\n",
    "# x = Flatten()(embedding_layer)\n",
    "# x = LSTM(64, input_shape=(32, 32), return_sequences=True)(embedding_layer)\n",
    "x = Conv1D(128, 5, activation='relu')(embedding_layer)\n",
    "x = LSTM(64, input_shape=(32, 32), return_sequences=True)(x)\n",
    "x = Dropout(0.1)(x)\n",
    "x = LSTM(32, input_shape=(32, 32))(x)\n",
    "x = Dropout(0.1)(x)\n",
    "x = Dense(10, activation='relu')(x)\n",
    "x = Dropout(0.1)(x)\n",
    "\n",
    "predictions = Dense(num_class, activation='softmax')(x)\n",
    "model = Model(inputs=[inputs], outputs=predictions)\n",
    "model.compile(optimizer='rmsprop',\n",
    "              loss='categorical_crossentropy',\n",
    "              metrics=['acc'])\n",
    "\n",
    "model.summary()\n",
    "filepath=\"weights-simple.hdf5\"\n",
    "checkpointer = ModelCheckpoint(filepath, monitor='val_acc', verbose=1, save_best_only=True, mode='max')\n",
    "history = model.fit([X_train], batch_size=64, y=to_categorical(y_train), verbose=1, validation_split=0.1, \n",
    "          shuffle=True, epochs=10, callbacks=[checkpointer])"
   ]
  },
  {
   "cell_type": "code",
   "execution_count": 16,
   "metadata": {},
   "outputs": [
    {
     "data": {
      "image/png": "[encoded data removed]",
      "text/plain": [
       "<Figure size 432x288 with 1 Axes>"
      ]
     },
     "metadata": {
      "needs_background": "light"
     },
     "output_type": "display_data"
    }
   ],
   "source": [
    "df = pd.DataFrame({'epochs':history.epoch, 'accuracy': history.history['acc'], 'validation_accuracy': history.history['val_acc']})\n",
    "g = sns.pointplot(x=\"epochs\", y=\"accuracy\", data=df, fit_reg=False)\n",
    "g = sns.pointplot(x=\"epochs\", y=\"validation_accuracy\", data=df, fit_reg=False, color='green')"
   ]
  },
  {
   "cell_type": "code",
   "execution_count": 17,
   "metadata": {},
   "outputs": [
    {
     "data": {
      "text/plain": [
       "0.8676056338028169"
      ]
     },
     "execution_count": 17,
     "metadata": {},
     "output_type": "execute_result"
    }
   ],
   "source": [
    "predicted = model.predict(X_test)\n",
    "predicted = np.argmax(predicted, axis=1)\n",
    "accuracy_score(y_test, predicted)"
   ]
  },
  {
   "cell_type": "code",
   "execution_count": 18,
   "metadata": {},
   "outputs": [
    {
     "data": {
      "text/plain": [
       "array([1, 0, 0, 3, 0, 1, 2, 1, 0, 3, 2, 3, 1, 2, 1, 3, 1, 1, 2, 0, 1, 1,\n",
       "       1, 3, 0, 3, 1, 2, 2, 0, 1, 0, 2, 3, 3, 1, 1, 0, 1, 2, 3, 2, 3, 3,\n",
       "       3, 3, 3, 0, 3, 2, 3, 3, 0, 1, 0, 3, 1, 3, 3, 1, 2, 0, 0, 0, 3, 2,\n",
       "       2, 3, 1, 2, 2, 3, 3, 2, 3, 1, 2, 1, 3, 1, 1, 0, 3, 3, 1, 2, 0, 3,\n",
       "       3, 3, 1, 3, 2, 3, 3, 0, 1, 2, 1, 2, 3, 1, 1, 3, 2, 3, 0, 2, 2, 0,\n",
       "       0, 1, 1, 2, 0, 2, 3, 3, 2, 3, 2, 2, 1, 2, 2, 2, 2, 1, 0, 1, 1, 0,\n",
       "       1, 1, 1, 0, 1, 1, 1, 3, 1, 1, 3, 2, 2, 1, 3, 2, 1, 3, 3, 2, 1, 0,\n",
       "       2, 3, 1, 1, 3, 3, 0, 2, 3, 0, 2, 1, 3, 3, 1, 2, 3, 2, 1, 1, 1, 2,\n",
       "       1, 0, 1, 2, 0, 0, 3, 1, 0, 1, 1, 1, 3, 2, 1, 3, 2, 0, 3, 1, 0, 0,\n",
       "       2, 3, 0, 1, 3, 1, 1, 3, 0, 1, 3, 0, 1, 0, 2, 1, 3, 0, 3, 3, 0, 2,\n",
       "       3, 2, 0, 2, 0, 2, 3, 0, 3, 1, 1, 1, 0, 2, 2, 0, 2, 0, 2, 0, 1, 1,\n",
       "       3, 0, 1, 2, 1, 0, 3, 0, 3, 0, 2, 3, 1, 2, 0, 3, 0, 1, 0, 0, 1, 0,\n",
       "       1, 2, 3, 1, 0, 0, 1, 1, 3, 1, 2, 1, 1, 3, 1, 3, 0, 2, 1, 3, 0, 1,\n",
       "       2, 1, 2, 3, 2, 0, 0, 2, 0, 1, 3, 2, 2, 0, 3, 0, 2, 0, 2, 1, 3, 2,\n",
       "       1, 2, 0, 2, 1, 2, 2, 3, 3, 0, 2, 2, 2, 0, 3, 1, 3, 1, 3, 3, 3, 3,\n",
       "       0, 0, 1, 2, 3, 3, 0, 1, 2, 1, 1, 0, 2, 3, 2, 2, 0, 0, 3, 1, 0, 2,\n",
       "       1, 1, 1], dtype=int8)"
      ]
     },
     "execution_count": 18,
     "metadata": {},
     "output_type": "execute_result"
    }
   ],
   "source": [
    "y_test"
   ]
  },
  {
   "cell_type": "code",
   "execution_count": 19,
   "metadata": {},
   "outputs": [
    {
     "data": {
      "text/plain": [
       "array([1, 0, 0, 3, 0, 1, 2, 0, 0, 3, 2, 3, 1, 2, 1, 3, 1, 1, 2, 0, 1, 1,\n",
       "       1, 3, 0, 3, 0, 2, 2, 3, 1, 0, 2, 3, 3, 1, 1, 0, 1, 2, 3, 2, 3, 3,\n",
       "       3, 1, 3, 0, 3, 2, 3, 3, 0, 1, 0, 3, 1, 3, 3, 1, 2, 0, 0, 3, 3, 2,\n",
       "       2, 3, 1, 3, 2, 1, 3, 2, 3, 3, 3, 1, 3, 0, 1, 0, 3, 3, 1, 2, 0, 3,\n",
       "       3, 3, 1, 3, 2, 3, 3, 0, 1, 2, 1, 2, 3, 1, 1, 3, 2, 3, 0, 2, 2, 0,\n",
       "       0, 1, 1, 2, 0, 2, 3, 3, 1, 3, 2, 2, 1, 3, 2, 2, 2, 1, 2, 1, 1, 3,\n",
       "       1, 1, 1, 0, 1, 1, 1, 3, 1, 3, 3, 1, 2, 1, 3, 2, 1, 3, 3, 2, 0, 0,\n",
       "       2, 3, 1, 1, 3, 3, 0, 2, 3, 1, 2, 3, 1, 3, 0, 3, 3, 2, 1, 0, 1, 2,\n",
       "       1, 0, 1, 2, 0, 0, 3, 1, 0, 1, 3, 1, 3, 2, 3, 3, 2, 0, 3, 1, 0, 0,\n",
       "       2, 3, 0, 1, 3, 1, 1, 3, 0, 1, 0, 0, 1, 0, 1, 1, 3, 0, 3, 3, 0, 2,\n",
       "       3, 3, 0, 2, 1, 1, 0, 0, 3, 1, 1, 1, 0, 2, 2, 0, 2, 0, 2, 0, 1, 1,\n",
       "       3, 0, 3, 2, 1, 0, 3, 0, 3, 3, 2, 3, 1, 2, 0, 3, 0, 1, 0, 3, 1, 0,\n",
       "       1, 2, 3, 1, 0, 0, 1, 1, 3, 3, 2, 1, 1, 3, 1, 3, 1, 2, 0, 3, 0, 1,\n",
       "       2, 1, 2, 3, 2, 0, 0, 2, 0, 3, 3, 2, 2, 0, 3, 0, 2, 0, 2, 1, 3, 2,\n",
       "       1, 1, 0, 2, 3, 2, 0, 0, 3, 0, 2, 2, 2, 0, 3, 1, 3, 1, 3, 3, 3, 3,\n",
       "       0, 0, 3, 2, 3, 1, 0, 1, 2, 1, 1, 0, 2, 0, 2, 2, 1, 0, 3, 1, 3, 2,\n",
       "       1, 1, 1], dtype=int64)"
      ]
     },
     "execution_count": 19,
     "metadata": {},
     "output_type": "execute_result"
    }
   ],
   "source": [
    "predicted"
   ]
  },
  {
   "cell_type": "code",
   "execution_count": 20,
   "metadata": {},
   "outputs": [],
   "source": [
    "def plot_confusion_matrix(cm, classes,\n",
    "                          normalize=False,\n",
    "                          title='Confusion matrix',\n",
    "                          cmap=plt.cm.Blues):\n",
    "    \"\"\"\n",
    "    This function prints and plots the confusion matrix.\n",
    "    Normalization can be applied by setting `normalize=True`.\n",
    "    \"\"\"\n",
    "    if normalize:\n",
    "        cm = cm.astype('float') / cm.sum(axis=1)[:, np.newaxis]\n",
    "        print(\"Normalized confusion matrix\")\n",
    "    else:\n",
    "        print('Confusion matrix, without normalization')\n",
    "\n",
    "    print(cm)\n",
    "\n",
    "    plt.imshow(cm, interpolation='nearest', cmap=cmap)\n",
    "    plt.title(title)\n",
    "    plt.colorbar()\n",
    "    tick_marks = np.arange(len(classes))\n",
    "    plt.xticks(tick_marks, classes, rotation=45)\n",
    "    plt.yticks(tick_marks, classes)\n",
    "\n",
    "    fmt = '.2f' if normalize else 'd'\n",
    "    thresh = cm.max() / 2.\n",
    "    for i, j in itertools.product(range(cm.shape[0]), range(cm.shape[1])):\n",
    "        plt.text(j, i, format(cm[i, j], fmt),\n",
    "                 horizontalalignment=\"center\",\n",
    "                 color=\"white\" if cm[i, j] > thresh else \"black\")\n",
    "\n",
    "    plt.ylabel('True label')\n",
    "    plt.xlabel('Predicted label')\n",
    "    plt.tight_layout()"
   ]
  },
  {
   "cell_type": "code",
   "execution_count": 21,
   "metadata": {},
   "outputs": [],
   "source": [
    "cnf_matrix = confusion_matrix(y_test, predicted)\n",
    "np.set_printoptions(precision=2)"
   ]
  },
  {
   "cell_type": "code",
   "execution_count": 22,
   "metadata": {},
   "outputs": [
    {
     "name": "stdout",
     "output_type": "stream",
     "text": [
      "Confusion matrix, without normalization\n",
      "[[66  4  1  6]\n",
      " [ 7 85  0 10]\n",
      " [ 1  5 73  5]\n",
      " [ 4  4  0 84]]\n"
     ]
    },
    {
     "data": {
      "image/png": "[encoded data removed]",
      "text/plain": [
       "<Figure size 432x288 with 2 Axes>"
      ]
     },
     "metadata": {
      "needs_background": "light"
     },
     "output_type": "display_data"
    }
   ],
   "source": [
    "class_names = ['anger_disgust', 'fear', 'joy','sadness', 'shame_guilt']\n",
    "plt.figure()\n",
    "plot_confusion_matrix(cnf_matrix, classes=class_names,\n",
    "                      title='Confusion matrix, without normalization')"
   ]
  },
  {
   "cell_type": "code",
   "execution_count": 23,
   "metadata": {},
   "outputs": [
    {
     "name": "stdout",
     "output_type": "stream",
     "text": [
      "Normalized confusion matrix\n",
      "[[0.86 0.05 0.01 0.08]\n",
      " [0.07 0.83 0.   0.1 ]\n",
      " [0.01 0.06 0.87 0.06]\n",
      " [0.04 0.04 0.   0.91]]\n"
     ]
    },
    {
     "data": {
      "image/png": "[encoded data removed]",
      "text/plain": [
       "<Figure size 432x288 with 2 Axes>"
      ]
     },
     "metadata": {
      "needs_background": "light"
     },
     "output_type": "display_data"
    }
   ],
   "source": [
    "plt.figure()\n",
    "plot_confusion_matrix(cnf_matrix, classes=class_names, normalize=True,\n",
    "                      title='Normalized confusion matrix')"
   ]
  },
  {
   "cell_type": "code",
   "execution_count": 34,
   "metadata": {},
   "outputs": [
    {
     "data": {
      "text/plain": [
       "array([0, 1, 0, 3, 1, 1, 1, 3, 1, 0, 1, 1, 1, 3, 3, 1, 0, 2, 1, 1, 2, 0],\n",
       "      dtype=int64)"
      ]
     },
     "execution_count": 34,
     "metadata": {},
     "output_type": "execute_result"
    }
   ],
   "source": [
    "tweets = [\n",
    "  \"Watching the sopranos again from start to finish!\",\n",
    "  \"Finding out i have to go to the  dentist tomorrow\",\n",
    "  \"Sun in my eyes but I don't mind, what a beautiful day we've had in New York today!\",\n",
    "  \"Feels like someone's stabbed me in my hope\",\n",
    "  \"Do people have no Respect for themselves or you know others peoples homes\",\n",
    "  \"I want to go outside and chalk but I have no chalk\",\n",
    "  \"I hate coming to the doctors when I feel as if I might have a big problem\",\n",
    "  \"My mom wasn't mad\",\n",
    "  \"You don't indicate once I'm already in the road THEN rev and honk at me you stupid bitch #learnhowtodrive #bitch\",\n",
    "  \"Come home from work and this is on my doorstep. I guess he has a secret admirer\",\n",
    "  \"The 'egyption hot models' facebook page is pathetic... simply photos of obese horny women.\",\n",
    "  \"I HATE PAPERS AH #AH #HATE\",\n",
    "]\n",
    "\n",
    "post = \"\"\"West Bengal chief minister and Trinamool Congress (TMC) chief Mamata Banerjee's efforts to rename the state as 'Bangla' have again faced an obstacle from the Ministry of Home Affairs (MHA).\n",
    "\n",
    "According to The Indian Express, the home ministry has expressed concern over this move, saying that the name \"may sound like Bangladesh and that it would be difficult to differentiate the two at international forums\". The home ministry has written to the Ministry of External Affairs, the report said, to obtain an opinion before any further consideration.\n",
    "\n",
    "However, in 2016, Mamata had addressed the possibility of the name being confused with Bangladesh. Noting that the name 'Bangla' had historical significance, she had said, \"In English it will be Bengal, so that there will be no confusion with the name of neighbouring Bangladesh.\"\n",
    "\n",
    "File image of West Bengal chief minister Mamata Banerjee. PTIFile image of West Bengal chief minister Mamata Banerjee. PTI\n",
    "A constitutional amendment is required for a change in the name of a state. A recent example of the name of a state being changed was that of Odisha (earlier called Orissa).\n",
    "\n",
    "Banerjee's plans to rename the state have been taking shape since 2011, when the newly elected chief minister had put forward 'Paschim Banga' as an option.\n",
    "\n",
    "Banerjee's effort in 2011 never saw the light of day at the Centre, and was unsuccessful even in 2016 when the state Assembly passed a resolution to change the name of West Bengal to language-specific names. The cabinet had proposed that the name of the state be 'Bengal' in English, 'Bangla' in Bengali, and 'Bangal' in Hindi. Then, the home ministry had rejected the proposal saying that it would not be possible for a state to have different names in different languages.\n",
    "\n",
    "However, in July this year, the West Bengal Assembly unanimously passed a resolution to change the state's name to 'Bangla'.\n",
    "\n",
    "According to reports, the state's Assembly pushed more strongly for the renaming after the July 2016 Inter-State Council meeting in Delhi, when Banerjee was the last chief minister to address the Council because the speakers were listed in alphabetical order of the states. The name 'Bangla' would bump the state up in an alphabetically-organised list to number four.\n",
    "\n",
    "Apart from political repercussions of the move to rename the state, with the Left, Congress, and BJP state parties walking out of the Assembly in August 2016 over the issue, political analysts have warned against reigniting tensions in the Darjeeling and Kalimpong areas of the state. People residing in \"the hills\" as the areas are colloquially referred to, had in 2017 initiated a strong resistance to the state government's move to make Bengali a mandatory language in schools in the state.\n",
    "\n",
    "The Gorkha and Nepali communities of the state demanded a separate state \"Gorkhaland\" in protest and as an assertion of the linguistic differences in the state. Even though those protests were successfully pacified by the Mamata Banerjee-government after three months, experts believe that there continues to be a divide in socio-cultural aspects in the state.\n",
    "\n",
    "As this report by Marcus Dam points out, the attempt to rename the state may not go down well in the hills, as \"Bangla\" is also the locally accepted term for the Bengali language.\"\"\"\n",
    "\n",
    "list = post.split(\".\")\n",
    "\n",
    "post_seq = tokenizer.texts_to_sequences(list)\n",
    "post_seq_padded = pad_sequences(post_seq, maxlen=MAX_LENGTH)\n",
    "p = model.predict(post_seq_padded)\n",
    "p\n",
    "p = np.argmax(p, axis=1)\n",
    "p\n",
    "final = [0, 0, 0, 0]\n",
    "for i in p:\n",
    "    final[i] += 1\n",
    "\n",
    "final\n",
    "for i, l in enumerate(list):\n",
    "    print(l, \" : \", p[i])"
   ]
  },
  {
   "cell_type": "code",
   "execution_count": null,
   "metadata": {},
   "outputs": [],
   "source": []
  },
  {
   "cell_type": "code",
   "execution_count": null,
   "metadata": {},
   "outputs": [],
   "source": []
  }
 ],
 "metadata": {
  "colab": {
   "include_colab_link": true,
   "name": "Untitled0.ipynb",
   "provenance": [],
   "version": "0.3.2"
  },
  "kernelspec": {
   "display_name": "Python 3",
   "language": "python",
   "name": "python3"
  },
  "language_info": {
   "codemirror_mode": {
    "name": "ipython",
    "version": 3
   },
   "file_extension": ".py",
   "mimetype": "text/x-python",
   "name": "python",
   "nbconvert_exporter": "python",
   "pygments_lexer": "ipython3",
   "version": "3.6.6"
  }
 },
 "nbformat": 4,
 "nbformat_minor": 1
}
