{
 "cells": [
  {
   "cell_type": "code",
   "execution_count": 212,
   "metadata": {},
   "outputs": [],
   "source": [
    "import keras \n",
    "import numpy as np\n",
    "from keras.preprocessing.text import Tokenizer\n",
    "import numpy as np\n",
    "import pandas as pd\n",
    "from keras.models import Sequential\n",
    "from keras.layers import Dense\n",
    "from keras.preprocessing.sequence import pad_sequences\n",
    "from keras.layers import Input, Dense, Dropout, Embedding, LSTM, Flatten, GlobalAveragePooling1D, LSTM, Reshape\n",
    "from keras.models import Model, Sequential\n",
    "from keras.utils import to_categorical\n",
    "from keras.callbacks import ModelCheckpoint\n",
    "import seaborn as sns\n",
    "import matplotlib.pyplot as plt\n",
    "from sklearn.model_selection import train_test_split\n",
    "from sklearn.metrics import accuracy_score, confusion_matrix\n",
    "import itertools\n",
    "from sklearn.preprocessing import LabelEncoder, OneHotEncoder"
   ]
  },
  {
   "cell_type": "code",
   "execution_count": 213,
   "metadata": {},
   "outputs": [
    {
     "data": {
      "text/html": [
       "<style>.container { width:100% !important; }</style>"
      ],
      "text/plain": [
       "<IPython.core.display.HTML object>"
      ]
     },
     "metadata": {},
     "output_type": "display_data"
    }
   ],
   "source": [
    "%matplotlib inline\n",
    "from IPython.core.display import display, HTML\n",
    "display(HTML(\"<style>.container { width:100% !important; }</style>\"))"
   ]
  },
  {
   "cell_type": "code",
   "execution_count": 214,
   "metadata": {},
   "outputs": [],
   "source": [
    "train_data = pd.read_csv('text_emotion.csv')"
   ]
  },
  {
   "cell_type": "code",
   "execution_count": 215,
   "metadata": {},
   "outputs": [
    {
     "data": {
      "text/html": [
       "<div>\n",
       "<style scoped>\n",
       "    .dataframe tbody tr th:only-of-type {\n",
       "        vertical-align: middle;\n",
       "    }\n",
       "\n",
       "    .dataframe tbody tr th {\n",
       "        vertical-align: top;\n",
       "    }\n",
       "\n",
       "    .dataframe thead th {\n",
       "        text-align: right;\n",
       "    }\n",
       "</style>\n",
       "<table border=\"1\" class=\"dataframe\">\n",
       "  <thead>\n",
       "    <tr style=\"text-align: right;\">\n",
       "      <th></th>\n",
       "      <th>sentiment</th>\n",
       "      <th>content</th>\n",
       "    </tr>\n",
       "  </thead>\n",
       "  <tbody>\n",
       "    <tr>\n",
       "      <th>0</th>\n",
       "      <td>joy</td>\n",
       "      <td>[ On days when I feel close to my partner and ...</td>\n",
       "    </tr>\n",
       "    <tr>\n",
       "      <th>1</th>\n",
       "      <td>fear</td>\n",
       "      <td>Every time I imagine that someone I love or I ...</td>\n",
       "    </tr>\n",
       "    <tr>\n",
       "      <th>2</th>\n",
       "      <td>anger_disgust</td>\n",
       "      <td>When I had been obviously unjustly treated and...</td>\n",
       "    </tr>\n",
       "    <tr>\n",
       "      <th>3</th>\n",
       "      <td>sadness</td>\n",
       "      <td>When I think about the short time that we live...</td>\n",
       "    </tr>\n",
       "    <tr>\n",
       "      <th>4</th>\n",
       "      <td>anger_disgust</td>\n",
       "      <td>At a gathering I found myself involuntarily si...</td>\n",
       "    </tr>\n",
       "  </tbody>\n",
       "</table>\n",
       "</div>"
      ],
      "text/plain": [
       "       sentiment                                            content\n",
       "0            joy  [ On days when I feel close to my partner and ...\n",
       "1           fear  Every time I imagine that someone I love or I ...\n",
       "2  anger_disgust  When I had been obviously unjustly treated and...\n",
       "3        sadness  When I think about the short time that we live...\n",
       "4  anger_disgust  At a gathering I found myself involuntarily si..."
      ]
     },
     "execution_count": 215,
     "metadata": {},
     "output_type": "execute_result"
    }
   ],
   "source": [
    "train_data.head()"
   ]
  },
  {
   "cell_type": "code",
   "execution_count": 216,
   "metadata": {},
   "outputs": [],
   "source": [
    "train_data['target'] = train_data.sentiment.astype('category').cat.codes"
   ]
  },
  {
   "cell_type": "code",
   "execution_count": 217,
   "metadata": {},
   "outputs": [],
   "source": [
    "train_data['num_words'] = train_data.content.apply(lambda x : len(x.split()) if type(x) == str else 0)"
   ]
  },
  {
   "cell_type": "code",
   "execution_count": 218,
   "metadata": {},
   "outputs": [],
   "source": [
    "bins=[0,50,75, np.inf]\n",
    "train_data['bins']=pd.cut(train_data.num_words, bins=[0,100,300,500,800, np.inf], labels=['0-100', '100-300', '300-500','500-800' ,'>800'])"
   ]
  },
  {
   "cell_type": "code",
   "execution_count": 219,
   "metadata": {},
   "outputs": [],
   "source": [
    "word_distribution = train_data.groupby('bins').size().reset_index().rename(columns={0:'counts'})"
   ]
  },
  {
   "cell_type": "code",
   "execution_count": 220,
   "metadata": {},
   "outputs": [
    {
     "data": {
      "text/html": [
       "<div>\n",
       "<style scoped>\n",
       "    .dataframe tbody tr th:only-of-type {\n",
       "        vertical-align: middle;\n",
       "    }\n",
       "\n",
       "    .dataframe tbody tr th {\n",
       "        vertical-align: top;\n",
       "    }\n",
       "\n",
       "    .dataframe thead th {\n",
       "        text-align: right;\n",
       "    }\n",
       "</style>\n",
       "<table border=\"1\" class=\"dataframe\">\n",
       "  <thead>\n",
       "    <tr style=\"text-align: right;\">\n",
       "      <th></th>\n",
       "      <th>bins</th>\n",
       "      <th>counts</th>\n",
       "    </tr>\n",
       "  </thead>\n",
       "  <tbody>\n",
       "    <tr>\n",
       "      <th>0</th>\n",
       "      <td>0-100</td>\n",
       "      <td>7630</td>\n",
       "    </tr>\n",
       "    <tr>\n",
       "      <th>1</th>\n",
       "      <td>100-300</td>\n",
       "      <td>22</td>\n",
       "    </tr>\n",
       "    <tr>\n",
       "      <th>2</th>\n",
       "      <td>300-500</td>\n",
       "      <td>0</td>\n",
       "    </tr>\n",
       "    <tr>\n",
       "      <th>3</th>\n",
       "      <td>500-800</td>\n",
       "      <td>0</td>\n",
       "    </tr>\n",
       "    <tr>\n",
       "      <th>4</th>\n",
       "      <td>&gt;800</td>\n",
       "      <td>0</td>\n",
       "    </tr>\n",
       "  </tbody>\n",
       "</table>\n",
       "</div>"
      ],
      "text/plain": [
       "      bins  counts\n",
       "0    0-100    7630\n",
       "1  100-300      22\n",
       "2  300-500       0\n",
       "3  500-800       0\n",
       "4     >800       0"
      ]
     },
     "execution_count": 220,
     "metadata": {},
     "output_type": "execute_result"
    }
   ],
   "source": [
    "word_distribution.head()"
   ]
  },
  {
   "cell_type": "code",
   "execution_count": 221,
   "metadata": {},
   "outputs": [
    {
     "data": {
      "text/plain": [
       "Text(0.5, 1.0, 'Word distribution per bin')"
      ]
     },
     "execution_count": 221,
     "metadata": {},
     "output_type": "execute_result"
    },
    {
     "data": {
      "image/png": "[encoded data removed]",
      "text/plain": [
       "<Figure size 432x288 with 1 Axes>"
      ]
     },
     "metadata": {
      "needs_background": "light"
     },
     "output_type": "display_data"
    }
   ],
   "source": [
    "sns.barplot(x='bins', y='counts', data=word_distribution).set_title(\"Word distribution per bin\")"
   ]
  },
  {
   "cell_type": "code",
   "execution_count": 222,
   "metadata": {},
   "outputs": [
    {
     "data": {
      "text/plain": [
       "5"
      ]
     },
     "execution_count": 222,
     "metadata": {},
     "output_type": "execute_result"
    }
   ],
   "source": [
    "num_class = len(np.unique(train_data.sentiment.values))\n",
    "y = train_data['target'].values\n",
    "num_class"
   ]
  },
  {
   "cell_type": "code",
   "execution_count": 223,
   "metadata": {},
   "outputs": [],
   "source": [
    "MAX_LENGTH = 300\n",
    "tokenizer = Tokenizer()\n",
    "tokenizer.fit_on_texts(train_data.content.values)\n",
    "post_seq = tokenizer.texts_to_sequences(train_data.content.values)\n",
    "post_seq_padded = pad_sequences(post_seq, maxlen=MAX_LENGTH)"
   ]
  },
  {
   "cell_type": "code",
   "execution_count": 224,
   "metadata": {},
   "outputs": [
    {
     "data": {
      "text/plain": [
       "array([3, 1, 1, ..., 2, 2, 1], dtype=int8)"
      ]
     },
     "execution_count": 224,
     "metadata": {},
     "output_type": "execute_result"
    }
   ],
   "source": [
    "X_train, X_test, y_train, y_test = train_test_split(post_seq_padded, y, test_size=0.05)\n",
    "y_train"
   ]
  },
  {
   "cell_type": "code",
   "execution_count": 225,
   "metadata": {},
   "outputs": [],
   "source": [
    "vocab_size = len(tokenizer.word_index) + 1"
   ]
  },
  {
   "cell_type": "code",
   "execution_count": 226,
   "metadata": {},
   "outputs": [
    {
     "name": "stdout",
     "output_type": "stream",
     "text": [
      "_________________________________________________________________\n",
      "Layer (type)                 Output Shape              Param #   \n",
      "=================================================================\n",
      "input_8 (InputLayer)         (None, 300)               0         \n",
      "_________________________________________________________________\n",
      "embedding_8 (Embedding)      (None, 300, 128)          1171712   \n",
      "_________________________________________________________________\n",
      "lstm_8 (LSTM)                (None, 32)                20608     \n",
      "_________________________________________________________________\n",
      "dense_15 (Dense)             (None, 32)                1056      \n",
      "_________________________________________________________________\n",
      "dense_16 (Dense)             (None, 5)                 165       \n",
      "=================================================================\n",
      "Total params: 1,193,541\n",
      "Trainable params: 1,193,541\n",
      "Non-trainable params: 0\n",
      "_________________________________________________________________\n",
      "Train on 6905 samples, validate on 364 samples\n",
      "Epoch 1/8\n",
      "6905/6905 [==============================] - 27s 4ms/step - loss: 1.5339 - acc: 0.2898 - val_loss: 1.4187 - val_acc: 0.3434\n",
      "\n",
      "Epoch 00001: val_acc improved from -inf to 0.34341, saving model to weights-simple.hdf5\n",
      "Epoch 2/8\n",
      "6905/6905 [==============================] - 24s 4ms/step - loss: 1.3384 - acc: 0.3964 - val_loss: 1.3172 - val_acc: 0.4176\n",
      "\n",
      "Epoch 00002: val_acc improved from 0.34341 to 0.41758, saving model to weights-simple.hdf5\n",
      "Epoch 3/8\n",
      "6905/6905 [==============================] - 24s 3ms/step - loss: 1.1290 - acc: 0.5161 - val_loss: 1.2367 - val_acc: 0.4918\n",
      "\n",
      "Epoch 00003: val_acc improved from 0.41758 to 0.49176, saving model to weights-simple.hdf5\n",
      "Epoch 4/8\n",
      "6905/6905 [==============================] - 24s 4ms/step - loss: 0.8727 - acc: 0.6807 - val_loss: 1.1212 - val_acc: 0.5852\n",
      "\n",
      "Epoch 00004: val_acc improved from 0.49176 to 0.58516, saving model to weights-simple.hdf5\n",
      "Epoch 5/8\n",
      "6905/6905 [==============================] - 24s 4ms/step - loss: 0.5747 - acc: 0.8071 - val_loss: 1.1127 - val_acc: 0.6099\n",
      "\n",
      "Epoch 00005: val_acc improved from 0.58516 to 0.60989, saving model to weights-simple.hdf5\n",
      "Epoch 6/8\n",
      "6905/6905 [==============================] - 24s 4ms/step - loss: 0.3875 - acc: 0.8752 - val_loss: 1.1770 - val_acc: 0.6154\n",
      "\n",
      "Epoch 00006: val_acc improved from 0.60989 to 0.61538, saving model to weights-simple.hdf5\n",
      "Epoch 7/8\n",
      "6905/6905 [==============================] - 24s 4ms/step - loss: 0.2821 - acc: 0.9122 - val_loss: 1.3007 - val_acc: 0.6236\n",
      "\n",
      "Epoch 00007: val_acc improved from 0.61538 to 0.62363, saving model to weights-simple.hdf5\n",
      "Epoch 8/8\n",
      "6905/6905 [==============================] - 25s 4ms/step - loss: 0.2231 - acc: 0.9287 - val_loss: 1.3946 - val_acc: 0.6291\n",
      "\n",
      "Epoch 00008: val_acc improved from 0.62363 to 0.62912, saving model to weights-simple.hdf5\n"
     ]
    }
   ],
   "source": [
    "inputs = Input(shape=(MAX_LENGTH, ))\n",
    "embedding_layer = Embedding(vocab_size,\n",
    "                            128,\n",
    "                            input_length=MAX_LENGTH)(inputs)\n",
    "\n",
    "# x = Flatten()(embedding_layer)\n",
    "x = LSTM(32, input_shape=(32, 32))(embedding_layer)\n",
    "x = Dense(32, activation='relu')(x)\n",
    "\n",
    "predictions = Dense(num_class, activation='softmax')(x)\n",
    "model = Model(inputs=[inputs], outputs=predictions)\n",
    "model.compile(optimizer='adam',\n",
    "              loss='categorical_crossentropy',\n",
    "              metrics=['acc'])\n",
    "\n",
    "model.summary()\n",
    "filepath=\"weights-simple.hdf5\"\n",
    "checkpointer = ModelCheckpoint(filepath, monitor='val_acc', verbose=1, save_best_only=True, mode='max')\n",
    "history = model.fit([X_train], batch_size=128, y=to_categorical(y_train), verbose=1, validation_split=0.05, \n",
    "          shuffle=True, epochs=8, callbacks=[checkpointer])"
   ]
  },
  {
   "cell_type": "code",
   "execution_count": 227,
   "metadata": {},
   "outputs": [
    {
     "data": {
      "image/png": "[encoded data removed]",
      "text/plain": [
       "<Figure size 432x288 with 1 Axes>"
      ]
     },
     "metadata": {
      "needs_background": "light"
     },
     "output_type": "display_data"
    }
   ],
   "source": [
    "df = pd.DataFrame({'epochs':history.epoch, 'accuracy': history.history['acc'], 'validation_accuracy': history.history['val_acc']})\n",
    "g = sns.pointplot(x=\"epochs\", y=\"accuracy\", data=df, fit_reg=False)\n",
    "g = sns.pointplot(x=\"epochs\", y=\"validation_accuracy\", data=df, fit_reg=False, color='green')"
   ]
  },
  {
   "cell_type": "code",
   "execution_count": 228,
   "metadata": {},
   "outputs": [
    {
     "data": {
      "text/plain": [
       "0.577023498694517"
      ]
     },
     "execution_count": 228,
     "metadata": {},
     "output_type": "execute_result"
    }
   ],
   "source": [
    "predicted = model.predict(X_test)\n",
    "predicted = np.argmax(predicted, axis=1)\n",
    "accuracy_score(y_test, predicted)"
   ]
  },
  {
   "cell_type": "code",
   "execution_count": 229,
   "metadata": {},
   "outputs": [
    {
     "data": {
      "text/plain": [
       "array([3, 4, 4, 2, 4, 2, 4, 1, 1, 1, 3, 4, 4, 0, 2, 3, 1, 0, 4, 0, 4, 4,\n",
       "       3, 0, 1, 3, 3, 0, 0, 1, 1, 0, 0, 0, 4, 4, 4, 3, 0, 3, 3, 4, 4, 0,\n",
       "       4, 3, 1, 2, 2, 4, 4, 4, 0, 4, 3, 3, 4, 2, 0, 1, 4, 1, 3, 0, 0, 2,\n",
       "       4, 3, 0, 0, 1, 4, 1, 1, 1, 0, 4, 0, 0, 0, 3, 4, 4, 0, 0, 2, 1, 0,\n",
       "       0, 3, 3, 2, 4, 3, 4, 0, 0, 1, 1, 4, 2, 3, 4, 4, 0, 4, 1, 2, 0, 4,\n",
       "       0, 3, 0, 0, 3, 3, 4, 1, 0, 3, 3, 0, 1, 4, 4, 2, 4, 2, 2, 2, 4, 4,\n",
       "       2, 0, 4, 0, 4, 4, 2, 4, 4, 2, 0, 0, 4, 0, 4, 1, 1, 1, 0, 2, 0, 0,\n",
       "       4, 1, 4, 0, 0, 2, 1, 1, 3, 3, 0, 0, 2, 1, 0, 1, 2, 3, 4, 4, 4, 4,\n",
       "       2, 4, 4, 4, 0, 0, 1, 3, 0, 4, 0, 4, 4, 2, 3, 3, 4, 4, 4, 2, 2, 4,\n",
       "       1, 3, 1, 0, 2, 4, 0, 0, 0, 4, 3, 3, 0, 4, 3, 4, 3, 0, 0, 2, 2, 0,\n",
       "       4, 0, 3, 0, 4, 2, 4, 1, 4, 4, 2, 0, 4, 0, 2, 0, 3, 2, 3, 0, 4, 1,\n",
       "       3, 3, 3, 0, 0, 4, 2, 0, 2, 4, 0, 2, 2, 1, 3, 3, 4, 4, 0, 1, 0, 4,\n",
       "       4, 3, 0, 0, 4, 0, 4, 1, 1, 2, 2, 1, 4, 4, 2, 0, 4, 0, 4, 1, 0, 2,\n",
       "       4, 4, 0, 0, 0, 2, 0, 0, 0, 0, 3, 4, 0, 2, 1, 1, 1, 0, 1, 0, 4, 4,\n",
       "       2, 1, 2, 0, 0, 2, 1, 4, 4, 4, 0, 0, 3, 4, 0, 3, 4, 1, 4, 0, 4, 4,\n",
       "       0, 3, 3, 0, 3, 4, 0, 2, 4, 0, 4, 0, 0, 3, 4, 4, 4, 2, 4, 4, 4, 1,\n",
       "       0, 0, 2, 3, 3, 0, 0, 0, 3, 2, 4, 3, 1, 4, 0, 0, 4, 4, 1, 3, 3, 0,\n",
       "       1, 4, 1, 1, 1, 4, 2, 3, 1], dtype=int8)"
      ]
     },
     "execution_count": 229,
     "metadata": {},
     "output_type": "execute_result"
    }
   ],
   "source": [
    "y_test"
   ]
  },
  {
   "cell_type": "code",
   "execution_count": 230,
   "metadata": {},
   "outputs": [
    {
     "data": {
      "text/plain": [
       "array([3, 4, 0, 1, 0, 2, 1, 4, 1, 3, 0, 4, 4, 0, 2, 3, 4, 0, 4, 3, 4, 4,\n",
       "       4, 4, 2, 3, 3, 4, 3, 1, 0, 4, 3, 0, 4, 4, 4, 1, 4, 4, 3, 4, 4, 0,\n",
       "       3, 3, 1, 0, 2, 1, 4, 4, 0, 0, 3, 3, 2, 3, 1, 1, 0, 1, 1, 0, 0, 0,\n",
       "       4, 3, 0, 0, 0, 4, 1, 0, 1, 4, 0, 4, 3, 4, 2, 4, 4, 0, 0, 4, 1, 0,\n",
       "       4, 0, 3, 4, 4, 3, 4, 0, 0, 1, 1, 2, 2, 1, 4, 3, 0, 0, 2, 2, 4, 4,\n",
       "       1, 3, 1, 0, 0, 3, 3, 0, 0, 3, 3, 4, 0, 4, 0, 4, 4, 2, 4, 1, 0, 4,\n",
       "       4, 0, 3, 0, 4, 4, 2, 4, 4, 2, 0, 4, 4, 0, 3, 0, 0, 0, 3, 2, 4, 0,\n",
       "       0, 4, 0, 3, 4, 2, 1, 1, 3, 0, 3, 4, 2, 1, 0, 1, 2, 3, 1, 4, 4, 4,\n",
       "       3, 0, 4, 4, 0, 0, 1, 0, 4, 4, 0, 0, 0, 2, 3, 3, 4, 4, 4, 3, 2, 2,\n",
       "       1, 4, 4, 0, 0, 4, 0, 0, 2, 0, 3, 0, 0, 0, 3, 0, 0, 0, 0, 2, 1, 0,\n",
       "       4, 0, 3, 0, 0, 2, 3, 1, 0, 0, 4, 0, 0, 0, 4, 0, 3, 2, 0, 0, 4, 0,\n",
       "       3, 3, 4, 0, 0, 0, 2, 0, 2, 0, 1, 3, 2, 1, 3, 4, 4, 3, 3, 4, 0, 4,\n",
       "       4, 3, 1, 0, 0, 0, 3, 1, 0, 2, 2, 4, 4, 3, 2, 0, 2, 0, 4, 1, 4, 2,\n",
       "       0, 4, 0, 3, 4, 0, 0, 0, 4, 0, 0, 3, 0, 4, 1, 1, 0, 4, 1, 0, 0, 4,\n",
       "       4, 2, 2, 0, 0, 3, 4, 3, 4, 4, 2, 1, 3, 4, 0, 0, 4, 1, 4, 0, 0, 4,\n",
       "       0, 1, 0, 4, 3, 1, 0, 2, 4, 0, 0, 0, 0, 3, 0, 0, 4, 4, 3, 0, 4, 1,\n",
       "       0, 0, 2, 3, 0, 0, 0, 0, 3, 2, 0, 2, 1, 3, 0, 4, 3, 4, 1, 4, 3, 0,\n",
       "       1, 1, 1, 0, 1, 2, 2, 3, 1])"
      ]
     },
     "execution_count": 230,
     "metadata": {},
     "output_type": "execute_result"
    }
   ],
   "source": [
    "predicted"
   ]
  },
  {
   "cell_type": "code",
   "execution_count": 231,
   "metadata": {},
   "outputs": [],
   "source": [
    "def plot_confusion_matrix(cm, classes,\n",
    "                          normalize=False,\n",
    "                          title='Confusion matrix',\n",
    "                          cmap=plt.cm.Blues):\n",
    "    \"\"\"\n",
    "    This function prints and plots the confusion matrix.\n",
    "    Normalization can be applied by setting `normalize=True`.\n",
    "    \"\"\"\n",
    "    if normalize:\n",
    "        cm = cm.astype('float') / cm.sum(axis=1)[:, np.newaxis]\n",
    "        print(\"Normalized confusion matrix\")\n",
    "    else:\n",
    "        print('Confusion matrix, without normalization')\n",
    "\n",
    "    print(cm)\n",
    "\n",
    "    plt.imshow(cm, interpolation='nearest', cmap=cmap)\n",
    "    plt.title(title)\n",
    "    plt.colorbar()\n",
    "    tick_marks = np.arange(len(classes))\n",
    "    plt.xticks(tick_marks, classes, rotation=45)\n",
    "    plt.yticks(tick_marks, classes)\n",
    "\n",
    "    fmt = '.2f' if normalize else 'd'\n",
    "    thresh = cm.max() / 2.\n",
    "    for i, j in itertools.product(range(cm.shape[0]), range(cm.shape[1])):\n",
    "        plt.text(j, i, format(cm[i, j], fmt),\n",
    "                 horizontalalignment=\"center\",\n",
    "                 color=\"white\" if cm[i, j] > thresh else \"black\")\n",
    "\n",
    "    plt.ylabel('True label')\n",
    "    plt.xlabel('Predicted label')\n",
    "    plt.tight_layout()"
   ]
  },
  {
   "cell_type": "code",
   "execution_count": 232,
   "metadata": {},
   "outputs": [],
   "source": [
    "cnf_matrix = confusion_matrix(y_test, predicted)\n",
    "np.set_printoptions(precision=2)"
   ]
  },
  {
   "cell_type": "code",
   "execution_count": 233,
   "metadata": {},
   "outputs": [
    {
     "name": "stdout",
     "output_type": "stream",
     "text": [
      "Confusion matrix, without normalization\n",
      "[[69  6  2  9 21]\n",
      " [12 31  3  1  7]\n",
      " [ 4  3 29  5 10]\n",
      " [12  4  2 34  6]\n",
      " [31  5  5 14 58]]\n"
     ]
    },
    {
     "data": {
      "image/png": "[encoded data removed]",
      "text/plain": [
       "<Figure size 432x288 with 2 Axes>"
      ]
     },
     "metadata": {
      "needs_background": "light"
     },
     "output_type": "display_data"
    }
   ],
   "source": [
    "class_names = ['anger_disgust', 'fear', 'joy','sadness', 'shame_guilt']\n",
    "plt.figure()\n",
    "plot_confusion_matrix(cnf_matrix, classes=class_names,\n",
    "                      title='Confusion matrix, without normalization')"
   ]
  },
  {
   "cell_type": "code",
   "execution_count": 234,
   "metadata": {},
   "outputs": [
    {
     "name": "stdout",
     "output_type": "stream",
     "text": [
      "Normalized confusion matrix\n",
      "[[0.64 0.06 0.02 0.08 0.2 ]\n",
      " [0.22 0.57 0.06 0.02 0.13]\n",
      " [0.08 0.06 0.57 0.1  0.2 ]\n",
      " [0.21 0.07 0.03 0.59 0.1 ]\n",
      " [0.27 0.04 0.04 0.12 0.51]]\n"
     ]
    },
    {
     "data": {
      "image/png": "[encoded data removed]",
      "text/plain": [
       "<Figure size 432x288 with 2 Axes>"
      ]
     },
     "metadata": {
      "needs_background": "light"
     },
     "output_type": "display_data"
    }
   ],
   "source": [
    "plt.figure()\n",
    "plot_confusion_matrix(cnf_matrix, classes=class_names, normalize=True,\n",
    "                      title='Normalized confusion matrix')"
   ]
  },
  {
   "cell_type": "code",
   "execution_count": 236,
   "metadata": {},
   "outputs": [
    {
     "data": {
      "text/plain": [
       "array([2, 3, 4])"
      ]
     },
     "execution_count": 236,
     "metadata": {},
     "output_type": "execute_result"
    }
   ],
   "source": [
    "post_seq = tokenizer.texts_to_sequences([\"I feel good\", \"Headache of the century coming- I can feel it  Fuck.\", \"I hapened to overhear something which I was not meant to hear\"])\n",
    "post_seq_padded = pad_sequences(post_seq, maxlen=MAX_LENGTH)\n",
    "p = model.predict(post_seq_padded)\n",
    "p = np.argmax(p, axis=1)\n",
    "p"
   ]
  },
  {
   "cell_type": "code",
   "execution_count": null,
   "metadata": {},
   "outputs": [],
   "source": []
  }
 ],
 "metadata": {
  "colab": {
   "include_colab_link": true,
   "name": "Untitled0.ipynb",
   "provenance": [],
   "version": "0.3.2"
  },
  "kernelspec": {
   "display_name": "Python 3",
   "language": "python",
   "name": "python3"
  },
  "language_info": {
   "codemirror_mode": {
    "name": "ipython",
    "version": 3
   },
   "file_extension": ".py",
   "mimetype": "text/x-python",
   "name": "python",
   "nbconvert_exporter": "python",
   "pygments_lexer": "ipython3",
   "version": "3.6.6"
  }
 },
 "nbformat": 4,
 "nbformat_minor": 1
}
