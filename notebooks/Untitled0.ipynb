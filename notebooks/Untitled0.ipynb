{
 "cells": [
  {
   "cell_type": "code",
   "execution_count": 58,
   "metadata": {},
   "outputs": [],
   "source": [
    "import keras \n",
    "import numpy as np\n",
    "from keras.preprocessing.text import Tokenizer\n",
    "import numpy as np\n",
    "import pandas as pd\n",
    "from keras.models import Sequential\n",
    "from keras.layers import Dense\n",
    "from keras.preprocessing.sequence import pad_sequences\n",
    "from keras.layers import Input, Dense, Dropout, Embedding, LSTM, Flatten, GlobalAveragePooling1D, LSTM, Reshape\n",
    "from keras.models import Model, Sequential\n",
    "from keras.utils import to_categorical\n",
    "from keras.callbacks import ModelCheckpoint\n",
    "import seaborn as sns\n",
    "import matplotlib.pyplot as plt\n",
    "from sklearn.model_selection import train_test_split\n",
    "from sklearn.metrics import accuracy_score\n",
    "from sklearn.preprocessing import LabelEncoder, OneHotEncoder"
   ]
  },
  {
   "cell_type": "code",
   "execution_count": 2,
   "metadata": {},
   "outputs": [
    {
     "data": {
      "text/html": [
       "<style>.container { width:100% !important; }</style>"
      ],
      "text/plain": [
       "<IPython.core.display.HTML object>"
      ]
     },
     "metadata": {},
     "output_type": "display_data"
    }
   ],
   "source": [
    "%matplotlib inline\n",
    "from IPython.core.display import display, HTML\n",
    "display(HTML(\"<style>.container { width:100% !important; }</style>\"))"
   ]
  },
  {
   "cell_type": "code",
   "execution_count": 23,
   "metadata": {},
   "outputs": [],
   "source": [
    "train_data = pd.read_csv('text_emotion.csv')"
   ]
  },
  {
   "cell_type": "code",
   "execution_count": 24,
   "metadata": {},
   "outputs": [
    {
     "data": {
      "text/html": [
       "<div>\n",
       "<style scoped>\n",
       "    .dataframe tbody tr th:only-of-type {\n",
       "        vertical-align: middle;\n",
       "    }\n",
       "\n",
       "    .dataframe tbody tr th {\n",
       "        vertical-align: top;\n",
       "    }\n",
       "\n",
       "    .dataframe thead th {\n",
       "        text-align: right;\n",
       "    }\n",
       "</style>\n",
       "<table border=\"1\" class=\"dataframe\">\n",
       "  <thead>\n",
       "    <tr style=\"text-align: right;\">\n",
       "      <th></th>\n",
       "      <th>sentiment</th>\n",
       "      <th>content</th>\n",
       "    </tr>\n",
       "  </thead>\n",
       "  <tbody>\n",
       "    <tr>\n",
       "      <th>0</th>\n",
       "      <td>joy</td>\n",
       "      <td>[ On days when I feel close to my partner and ...</td>\n",
       "    </tr>\n",
       "    <tr>\n",
       "      <th>1</th>\n",
       "      <td>fear</td>\n",
       "      <td>Every time I imagine that someone I love or I ...</td>\n",
       "    </tr>\n",
       "    <tr>\n",
       "      <th>2</th>\n",
       "      <td>anger</td>\n",
       "      <td>When I had been obviously unjustly treated and...</td>\n",
       "    </tr>\n",
       "    <tr>\n",
       "      <th>3</th>\n",
       "      <td>sadness</td>\n",
       "      <td>When I think about the short time that we live...</td>\n",
       "    </tr>\n",
       "    <tr>\n",
       "      <th>4</th>\n",
       "      <td>disgust</td>\n",
       "      <td>At a gathering I found myself involuntarily si...</td>\n",
       "    </tr>\n",
       "  </tbody>\n",
       "</table>\n",
       "</div>"
      ],
      "text/plain": [
       "  sentiment                                            content\n",
       "0       joy  [ On days when I feel close to my partner and ...\n",
       "1      fear  Every time I imagine that someone I love or I ...\n",
       "2     anger  When I had been obviously unjustly treated and...\n",
       "3   sadness  When I think about the short time that we live...\n",
       "4   disgust  At a gathering I found myself involuntarily si..."
      ]
     },
     "execution_count": 24,
     "metadata": {},
     "output_type": "execute_result"
    }
   ],
   "source": [
    "train_data.head()"
   ]
  },
  {
   "cell_type": "code",
   "execution_count": 26,
   "metadata": {},
   "outputs": [],
   "source": [
    "train_data['target'] = train_data.sentiment.astype('category').cat.codes"
   ]
  },
  {
   "cell_type": "code",
   "execution_count": 28,
   "metadata": {},
   "outputs": [],
   "source": [
    "train_data['num_words'] = train_data.content.apply(lambda x : len(x.split()))"
   ]
  },
  {
   "cell_type": "code",
   "execution_count": 29,
   "metadata": {},
   "outputs": [],
   "source": [
    "bins=[0,50,75, np.inf]\n",
    "train_data['bins']=pd.cut(train_data.num_words, bins=[0,100,300,500,800, np.inf], labels=['0-100', '100-300', '300-500','500-800' ,'>800'])"
   ]
  },
  {
   "cell_type": "code",
   "execution_count": 30,
   "metadata": {},
   "outputs": [],
   "source": [
    "word_distribution = train_data.groupby('bins').size().reset_index().rename(columns={0:'counts'})"
   ]
  },
  {
   "cell_type": "code",
   "execution_count": 31,
   "metadata": {},
   "outputs": [
    {
     "data": {
      "text/html": [
       "<div>\n",
       "<style scoped>\n",
       "    .dataframe tbody tr th:only-of-type {\n",
       "        vertical-align: middle;\n",
       "    }\n",
       "\n",
       "    .dataframe tbody tr th {\n",
       "        vertical-align: top;\n",
       "    }\n",
       "\n",
       "    .dataframe thead th {\n",
       "        text-align: right;\n",
       "    }\n",
       "</style>\n",
       "<table border=\"1\" class=\"dataframe\">\n",
       "  <thead>\n",
       "    <tr style=\"text-align: right;\">\n",
       "      <th></th>\n",
       "      <th>bins</th>\n",
       "      <th>counts</th>\n",
       "    </tr>\n",
       "  </thead>\n",
       "  <tbody>\n",
       "    <tr>\n",
       "      <th>0</th>\n",
       "      <td>0-100</td>\n",
       "      <td>7630</td>\n",
       "    </tr>\n",
       "    <tr>\n",
       "      <th>1</th>\n",
       "      <td>100-300</td>\n",
       "      <td>22</td>\n",
       "    </tr>\n",
       "    <tr>\n",
       "      <th>2</th>\n",
       "      <td>300-500</td>\n",
       "      <td>0</td>\n",
       "    </tr>\n",
       "    <tr>\n",
       "      <th>3</th>\n",
       "      <td>500-800</td>\n",
       "      <td>0</td>\n",
       "    </tr>\n",
       "    <tr>\n",
       "      <th>4</th>\n",
       "      <td>&gt;800</td>\n",
       "      <td>0</td>\n",
       "    </tr>\n",
       "  </tbody>\n",
       "</table>\n",
       "</div>"
      ],
      "text/plain": [
       "      bins  counts\n",
       "0    0-100    7630\n",
       "1  100-300      22\n",
       "2  300-500       0\n",
       "3  500-800       0\n",
       "4     >800       0"
      ]
     },
     "execution_count": 31,
     "metadata": {},
     "output_type": "execute_result"
    }
   ],
   "source": [
    "word_distribution.head()"
   ]
  },
  {
   "cell_type": "code",
   "execution_count": 32,
   "metadata": {},
   "outputs": [
    {
     "data": {
      "text/plain": [
       "Text(0.5, 1.0, 'Word distribution per bin')"
      ]
     },
     "execution_count": 32,
     "metadata": {},
     "output_type": "execute_result"
    },
    {
     "data": {
      "image/png": "[encoded data removed]",
      "text/plain": [
       "<Figure size 432x288 with 1 Axes>"
      ]
     },
     "metadata": {
      "needs_background": "light"
     },
     "output_type": "display_data"
    }
   ],
   "source": [
    "sns.barplot(x='bins', y='counts', data=word_distribution).set_title(\"Word distribution per bin\")"
   ]
  },
  {
   "cell_type": "code",
   "execution_count": 38,
   "metadata": {},
   "outputs": [
    {
     "data": {
      "text/plain": [
       "7"
      ]
     },
     "execution_count": 38,
     "metadata": {},
     "output_type": "execute_result"
    }
   ],
   "source": [
    "num_class = len(np.unique(train_data.sentiment.values))\n",
    "y = train_data['target'].values\n",
    "num_class"
   ]
  },
  {
   "cell_type": "code",
   "execution_count": 39,
   "metadata": {},
   "outputs": [],
   "source": [
    "MAX_LENGTH = 100\n",
    "tokenizer = Tokenizer()\n",
    "tokenizer.fit_on_texts(train_data.content.values)\n",
    "post_seq = tokenizer.texts_to_sequences(train_data.content.values)\n",
    "post_seq_padded = pad_sequences(post_seq, maxlen=MAX_LENGTH)"
   ]
  },
  {
   "cell_type": "code",
   "execution_count": 40,
   "metadata": {},
   "outputs": [
    {
     "data": {
      "text/plain": [
       "array([6, 1, 3, ..., 3, 6, 0], dtype=int8)"
      ]
     },
     "execution_count": 40,
     "metadata": {},
     "output_type": "execute_result"
    }
   ],
   "source": [
    "X_train, X_test, y_train, y_test = train_test_split(post_seq_padded, y, test_size=0.05)\n",
    "y_train"
   ]
  },
  {
   "cell_type": "code",
   "execution_count": 41,
   "metadata": {},
   "outputs": [],
   "source": [
    "vocab_size = len(tokenizer.word_index) + 1"
   ]
  },
  {
   "cell_type": "code",
   "execution_count": 72,
   "metadata": {},
   "outputs": [
    {
     "name": "stdout",
     "output_type": "stream",
     "text": [
      "_________________________________________________________________\n",
      "Layer (type)                 Output Shape              Param #   \n",
      "=================================================================\n",
      "input_29 (InputLayer)        (None, 100)               0         \n",
      "_________________________________________________________________\n",
      "embedding_29 (Embedding)     (None, 100, 128)          1171840   \n",
      "_________________________________________________________________\n",
      "lstm_31 (LSTM)               (None, 32)                20608     \n",
      "_________________________________________________________________\n",
      "dense_33 (Dense)             (None, 32)                1056      \n",
      "_________________________________________________________________\n",
      "dense_34 (Dense)             (None, 7)                 231       \n",
      "=================================================================\n",
      "Total params: 1,193,735\n",
      "Trainable params: 1,193,735\n",
      "Non-trainable params: 0\n",
      "_________________________________________________________________\n",
      "Train on 6905 samples, validate on 364 samples\n",
      "Epoch 1/5\n",
      "6905/6905 [==============================] - 8s 1ms/step - loss: 1.9323 - acc: 0.1723 - val_loss: 1.9083 - val_acc: 0.1786\n",
      "\n",
      "Epoch 00001: val_acc improved from -inf to 0.17857, saving model to weights-simple.hdf5\n",
      "Epoch 2/5\n",
      "6905/6905 [==============================] - 5s 784us/step - loss: 1.6858 - acc: 0.3655 - val_loss: 1.6147 - val_acc: 0.3736\n",
      "\n",
      "Epoch 00002: val_acc improved from 0.17857 to 0.37363, saving model to weights-simple.hdf5\n",
      "Epoch 3/5\n",
      "6905/6905 [==============================] - 5s 732us/step - loss: 1.2523 - acc: 0.5337 - val_loss: 1.4926 - val_acc: 0.4341\n",
      "\n",
      "Epoch 00003: val_acc improved from 0.37363 to 0.43407, saving model to weights-simple.hdf5\n",
      "Epoch 4/5\n",
      "6905/6905 [==============================] - 5s 738us/step - loss: 0.9340 - acc: 0.6808 - val_loss: 1.4882 - val_acc: 0.4753\n",
      "\n",
      "Epoch 00004: val_acc improved from 0.43407 to 0.47527, saving model to weights-simple.hdf5\n",
      "Epoch 5/5\n",
      "6905/6905 [==============================] - 5s 731us/step - loss: 0.6802 - acc: 0.7818 - val_loss: 1.6227 - val_acc: 0.4945\n",
      "\n",
      "Epoch 00005: val_acc improved from 0.47527 to 0.49451, saving model to weights-simple.hdf5\n"
     ]
    }
   ],
   "source": [
    "inputs = Input(shape=(MAX_LENGTH, ))\n",
    "embedding_layer = Embedding(vocab_size,\n",
    "                            128,\n",
    "                            input_length=MAX_LENGTH)(inputs)\n",
    "\n",
    "# x = Flatten()(embedding_layer)\n",
    "# x = LSTM(32, return_sequences=True, input_shape=(MAX_LENGTH, 32, 32))\n",
    "x = LSTM(32, input_shape=(32, 32))(embedding_layer)\n",
    "# x = Reshape((32, 1,))(x)\n",
    "# x = LSTM(32)(x)\n",
    "x = Dense(32, activation='relu')(x)\n",
    "\n",
    "predictions = Dense(num_class, activation='softmax')(x)\n",
    "model = Model(inputs=[inputs], outputs=predictions)\n",
    "model.compile(optimizer='adam',\n",
    "              loss='categorical_crossentropy',\n",
    "              metrics=['acc'])\n",
    "\n",
    "model.summary()\n",
    "filepath=\"weights-simple.hdf5\"\n",
    "checkpointer = ModelCheckpoint(filepath, monitor='val_acc', verbose=1, save_best_only=True, mode='max')\n",
    "history = model.fit([X_train], batch_size=128, y=to_categorical(y_train), verbose=1, validation_split=0.05, \n",
    "          shuffle=True, epochs=5, callbacks=[checkpointer])"
   ]
  },
  {
   "cell_type": "code",
   "execution_count": 49,
   "metadata": {},
   "outputs": [
    {
     "data": {
      "image/png": "[encoded data removed]",
      "text/plain": [
       "<Figure size 432x288 with 1 Axes>"
      ]
     },
     "metadata": {
      "needs_background": "light"
     },
     "output_type": "display_data"
    }
   ],
   "source": [
    "df = pd.DataFrame({'epochs':history.epoch, 'accuracy': history.history['acc'], 'validation_accuracy': history.history['val_acc']})\n",
    "g = sns.pointplot(x=\"epochs\", y=\"accuracy\", data=df, fit_reg=False)\n",
    "g = sns.pointplot(x=\"epochs\", y=\"validation_accuracy\", data=df, fit_reg=False, color='green')"
   ]
  },
  {
   "cell_type": "code",
   "execution_count": 50,
   "metadata": {},
   "outputs": [
    {
     "data": {
      "text/plain": [
       "0.5352480417754569"
      ]
     },
     "execution_count": 50,
     "metadata": {},
     "output_type": "execute_result"
    }
   ],
   "source": [
    "predicted = model.predict(X_test)\n",
    "predicted = np.argmax(predicted, axis=1)\n",
    "accuracy_score(y_test, predicted)"
   ]
  },
  {
   "cell_type": "code",
   "execution_count": 51,
   "metadata": {},
   "outputs": [
    {
     "data": {
      "text/plain": [
       "array([4, 2, 4, 1, 0, 1, 5, 5, 6, 0, 6, 5, 4, 2, 2, 4, 2, 3, 3, 1, 6, 2,\n",
       "       4, 1, 4, 6, 2, 0, 4, 1, 6, 6, 1, 1, 0, 3, 4, 2, 2, 2, 0, 1, 4, 0,\n",
       "       3, 0, 4, 5, 2, 6, 4, 1, 1, 0, 2, 2, 4, 5, 4, 5, 2, 1, 5, 2, 4, 2,\n",
       "       4, 5, 0, 6, 1, 6, 3, 1, 2, 1, 1, 1, 1, 5, 5, 3, 1, 0, 3, 2, 4, 2,\n",
       "       6, 6, 2, 0, 4, 5, 1, 1, 1, 3, 0, 1, 5, 3, 4, 1, 0, 1, 6, 6, 5, 2,\n",
       "       1, 1, 0, 3, 5, 3, 6, 0, 0, 1, 3, 0, 3, 2, 2, 3, 1, 6, 1, 6, 1, 5,\n",
       "       2, 2, 5, 0, 3, 0, 1, 6, 6, 3, 3, 2, 1, 5, 4, 6, 0, 5, 4, 2, 0, 4,\n",
       "       6, 3, 6, 3, 5, 2, 2, 2, 1, 0, 6, 0, 4, 5, 1, 2, 6, 1, 0, 6, 1, 1,\n",
       "       3, 6, 1, 5, 6, 6, 0, 2, 4, 1, 5, 4, 4, 5, 6, 3, 4, 4, 5, 0, 6, 4,\n",
       "       1, 5, 4, 5, 5, 6, 5, 2, 6, 2, 2, 0, 6, 4, 2, 2, 6, 3, 6, 2, 6, 5,\n",
       "       1, 1, 5, 5, 1, 0, 6, 2, 0, 1, 6, 3, 5, 5, 5, 3, 1, 5, 2, 1, 1, 6,\n",
       "       0, 5, 6, 1, 5, 0, 1, 5, 2, 6, 3, 2, 6, 6, 6, 1, 2, 5, 4, 0, 2, 2,\n",
       "       1, 2, 2, 4, 5, 6, 5, 1, 1, 5, 0, 3, 4, 1, 1, 4, 1, 2, 0, 3, 3, 6,\n",
       "       3, 6, 1, 0, 2, 2, 4, 2, 6, 3, 3, 5, 6, 5, 2, 3, 4, 1, 1, 5, 5, 2,\n",
       "       4, 3, 2, 6, 4, 6, 1, 0, 6, 1, 1, 3, 5, 2, 4, 2, 1, 6, 0, 2, 1, 3,\n",
       "       1, 6, 1, 2, 1, 2, 1, 6, 1, 1, 2, 0, 0, 2, 6, 4, 5, 2, 6, 0, 5, 6,\n",
       "       2, 2, 4, 4, 0, 0, 0, 6, 6, 6, 5, 2, 3, 1, 3, 2, 3, 1, 2, 1, 2, 0,\n",
       "       1, 0, 0, 3, 3, 5, 6, 3, 5], dtype=int64)"
      ]
     },
     "execution_count": 51,
     "metadata": {},
     "output_type": "execute_result"
    }
   ],
   "source": [
    "predicted"
   ]
  },
  {
   "cell_type": "code",
   "execution_count": 52,
   "metadata": {},
   "outputs": [
    {
     "data": {
      "text/plain": [
       "array([6, 0, 4, 0, 1, 1, 5, 4, 6, 0, 3, 5, 4, 2, 5, 4, 2, 3, 3, 3, 1, 2,\n",
       "       4, 6, 2, 1, 2, 1, 3, 1, 6, 3, 6, 5, 0, 0, 2, 2, 2, 0, 3, 1, 4, 0,\n",
       "       3, 3, 4, 5, 2, 6, 4, 0, 0, 1, 3, 2, 5, 5, 6, 5, 2, 0, 4, 2, 4, 2,\n",
       "       6, 2, 0, 1, 3, 6, 3, 2, 0, 1, 2, 1, 0, 5, 5, 0, 0, 2, 3, 4, 4, 2,\n",
       "       1, 6, 2, 0, 4, 0, 1, 1, 2, 3, 1, 1, 3, 2, 4, 1, 4, 1, 6, 6, 0, 2,\n",
       "       1, 6, 0, 3, 4, 6, 3, 3, 6, 0, 6, 3, 3, 2, 2, 3, 0, 0, 0, 6, 0, 5,\n",
       "       2, 5, 5, 0, 5, 5, 1, 6, 6, 0, 3, 3, 1, 5, 4, 6, 0, 5, 4, 5, 0, 4,\n",
       "       6, 1, 3, 3, 0, 2, 2, 6, 1, 0, 6, 6, 4, 5, 6, 2, 1, 1, 3, 1, 3, 1,\n",
       "       3, 6, 1, 0, 6, 3, 0, 2, 0, 1, 5, 1, 4, 4, 0, 3, 5, 4, 5, 0, 6, 2,\n",
       "       1, 5, 1, 5, 5, 6, 2, 1, 0, 2, 2, 0, 6, 6, 2, 2, 3, 3, 0, 3, 6, 6,\n",
       "       1, 1, 6, 4, 0, 0, 6, 2, 1, 3, 1, 3, 5, 5, 5, 6, 1, 5, 2, 1, 2, 4,\n",
       "       1, 5, 1, 3, 6, 6, 1, 5, 2, 4, 5, 2, 0, 6, 6, 0, 3, 3, 3, 3, 2, 2,\n",
       "       1, 4, 0, 4, 3, 0, 5, 6, 4, 5, 0, 3, 3, 1, 1, 6, 1, 1, 0, 3, 3, 6,\n",
       "       3, 4, 5, 3, 2, 2, 4, 1, 1, 2, 6, 1, 6, 2, 2, 6, 4, 5, 1, 5, 5, 3,\n",
       "       4, 6, 2, 3, 6, 0, 3, 0, 6, 6, 3, 6, 5, 6, 4, 3, 1, 0, 0, 2, 6, 0,\n",
       "       0, 0, 0, 4, 1, 2, 1, 4, 1, 1, 2, 1, 0, 3, 5, 4, 5, 3, 6, 3, 3, 1,\n",
       "       2, 2, 4, 4, 0, 6, 2, 6, 6, 6, 5, 6, 6, 1, 6, 6, 3, 6, 2, 3, 5, 0,\n",
       "       0, 0, 0, 5, 3, 2, 1, 2, 5], dtype=int8)"
      ]
     },
     "execution_count": 52,
     "metadata": {},
     "output_type": "execute_result"
    }
   ],
   "source": [
    "y_test"
   ]
  },
  {
   "cell_type": "code",
   "execution_count": null,
   "metadata": {},
   "outputs": [],
   "source": []
  }
 ],
 "metadata": {
  "colab": {
   "include_colab_link": true,
   "name": "Untitled0.ipynb",
   "provenance": [],
   "version": "0.3.2"
  },
  "kernelspec": {
   "display_name": "Python 3",
   "language": "python",
   "name": "python3"
  },
  "language_info": {
   "codemirror_mode": {
    "name": "ipython",
    "version": 3
   },
   "file_extension": ".py",
   "mimetype": "text/x-python",
   "name": "python",
   "nbconvert_exporter": "python",
   "pygments_lexer": "ipython3",
   "version": "3.6.6"
  }
 },
 "nbformat": 4,
 "nbformat_minor": 1
}
