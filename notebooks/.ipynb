{
 "cells": [
  {
   "cell_type": "code",
   "execution_count": 46,
   "metadata": {},
   "outputs": [],
   "source": [
    "import keras \n",
    "import numpy as np\n",
    "from keras.preprocessing.text import Tokenizer\n",
    "import numpy as np\n",
    "import pandas as pd\n",
    "from keras.models import Sequential\n",
    "from keras.layers import Dense\n",
    "from keras.preprocessing.sequence import pad_sequences\n",
    "from keras.layers import Input, Dense, Dropout, Embedding, LSTM, Flatten, GlobalAveragePooling1D\n",
    "from keras.models import Model, Sequential\n",
    "from keras.utils import to_categorical\n",
    "from keras.callbacks import ModelCheckpoint\n",
    "import seaborn as sns\n",
    "import matplotlib.pyplot as plt\n",
    "from sklearn.model_selection import train_test_split\n",
    "from sklearn.metrics import accuracy_score"
   ]
  },
  {
   "cell_type": "code",
   "execution_count": 47,
   "metadata": {},
   "outputs": [
    {
     "data": {
      "text/html": [
       "<style>.container { width:100% !important; }</style>"
      ],
      "text/plain": [
       "<IPython.core.display.HTML object>"
      ]
     },
     "metadata": {},
     "output_type": "display_data"
    }
   ],
   "source": [
    "%matplotlib inline\n",
    "from IPython.core.display import display, HTML\n",
    "display(HTML(\"<style>.container { width:100% !important; }</style>\"))"
   ]
  },
  {
   "cell_type": "code",
   "execution_count": 48,
   "metadata": {},
   "outputs": [],
   "source": [
    "train_data = pd.read_csv('text_emotion.csv')"
   ]
  },
  {
   "cell_type": "code",
   "execution_count": 49,
   "metadata": {},
   "outputs": [
    {
     "data": {
      "text/html": [
       "<div>\n",
       "<style scoped>\n",
       "    .dataframe tbody tr th:only-of-type {\n",
       "        vertical-align: middle;\n",
       "    }\n",
       "\n",
       "    .dataframe tbody tr th {\n",
       "        vertical-align: top;\n",
       "    }\n",
       "\n",
       "    .dataframe thead th {\n",
       "        text-align: right;\n",
       "    }\n",
       "</style>\n",
       "<table border=\"1\" class=\"dataframe\">\n",
       "  <thead>\n",
       "    <tr style=\"text-align: right;\">\n",
       "      <th></th>\n",
       "      <th>sentiment</th>\n",
       "      <th>content</th>\n",
       "    </tr>\n",
       "  </thead>\n",
       "  <tbody>\n",
       "    <tr>\n",
       "      <th>0</th>\n",
       "      <td>joy</td>\n",
       "      <td>[ On days when I feel close to my partner and ...</td>\n",
       "    </tr>\n",
       "    <tr>\n",
       "      <th>1</th>\n",
       "      <td>fear</td>\n",
       "      <td>Every time I imagine that someone I love or I ...</td>\n",
       "    </tr>\n",
       "    <tr>\n",
       "      <th>2</th>\n",
       "      <td>anger</td>\n",
       "      <td>When I had been obviously unjustly treated and...</td>\n",
       "    </tr>\n",
       "    <tr>\n",
       "      <th>3</th>\n",
       "      <td>sadness</td>\n",
       "      <td>When I think about the short time that we live...</td>\n",
       "    </tr>\n",
       "    <tr>\n",
       "      <th>4</th>\n",
       "      <td>disgust</td>\n",
       "      <td>At a gathering I found myself involuntarily si...</td>\n",
       "    </tr>\n",
       "  </tbody>\n",
       "</table>\n",
       "</div>"
      ],
      "text/plain": [
       "  sentiment                                            content\n",
       "0       joy  [ On days when I feel close to my partner and ...\n",
       "1      fear  Every time I imagine that someone I love or I ...\n",
       "2     anger  When I had been obviously unjustly treated and...\n",
       "3   sadness  When I think about the short time that we live...\n",
       "4   disgust  At a gathering I found myself involuntarily si..."
      ]
     },
     "execution_count": 49,
     "metadata": {},
     "output_type": "execute_result"
    }
   ],
   "source": [
    "train_data.head()"
   ]
  },
  {
   "cell_type": "code",
   "execution_count": 50,
   "metadata": {},
   "outputs": [],
   "source": [
    "train_data['target'] = train_data.sentiment.astype('category').cat.codes"
   ]
  },
  {
   "cell_type": "code",
   "execution_count": 51,
   "metadata": {},
   "outputs": [],
   "source": [
    "train_data['num_words'] = train_data.content.apply(lambda x : len(x.split()))"
   ]
  },
  {
   "cell_type": "code",
   "execution_count": 52,
   "metadata": {},
   "outputs": [],
   "source": [
    "bins=[0,50,75, np.inf]\n",
    "train_data['bins']=pd.cut(train_data.num_words, bins=[0,100,300,500,800, np.inf], labels=['0-100', '100-300', '300-500','500-800' ,'>800'])"
   ]
  },
  {
   "cell_type": "code",
   "execution_count": 53,
   "metadata": {},
   "outputs": [],
   "source": [
    "word_distribution = train_data.groupby('bins').size().reset_index().rename(columns={0:'counts'})"
   ]
  },
  {
   "cell_type": "code",
   "execution_count": 54,
   "metadata": {},
   "outputs": [
    {
     "data": {
      "text/html": [
       "<div>\n",
       "<style scoped>\n",
       "    .dataframe tbody tr th:only-of-type {\n",
       "        vertical-align: middle;\n",
       "    }\n",
       "\n",
       "    .dataframe tbody tr th {\n",
       "        vertical-align: top;\n",
       "    }\n",
       "\n",
       "    .dataframe thead th {\n",
       "        text-align: right;\n",
       "    }\n",
       "</style>\n",
       "<table border=\"1\" class=\"dataframe\">\n",
       "  <thead>\n",
       "    <tr style=\"text-align: right;\">\n",
       "      <th></th>\n",
       "      <th>bins</th>\n",
       "      <th>counts</th>\n",
       "    </tr>\n",
       "  </thead>\n",
       "  <tbody>\n",
       "    <tr>\n",
       "      <th>0</th>\n",
       "      <td>0-100</td>\n",
       "      <td>7630</td>\n",
       "    </tr>\n",
       "    <tr>\n",
       "      <th>1</th>\n",
       "      <td>100-300</td>\n",
       "      <td>22</td>\n",
       "    </tr>\n",
       "    <tr>\n",
       "      <th>2</th>\n",
       "      <td>300-500</td>\n",
       "      <td>0</td>\n",
       "    </tr>\n",
       "    <tr>\n",
       "      <th>3</th>\n",
       "      <td>500-800</td>\n",
       "      <td>0</td>\n",
       "    </tr>\n",
       "    <tr>\n",
       "      <th>4</th>\n",
       "      <td>&gt;800</td>\n",
       "      <td>0</td>\n",
       "    </tr>\n",
       "  </tbody>\n",
       "</table>\n",
       "</div>"
      ],
      "text/plain": [
       "      bins  counts\n",
       "0    0-100    7630\n",
       "1  100-300      22\n",
       "2  300-500       0\n",
       "3  500-800       0\n",
       "4     >800       0"
      ]
     },
     "execution_count": 54,
     "metadata": {},
     "output_type": "execute_result"
    }
   ],
   "source": [
    "word_distribution.head()"
   ]
  },
  {
   "cell_type": "code",
   "execution_count": 55,
   "metadata": {},
   "outputs": [
    {
     "data": {
      "text/plain": [
       "Text(0.5, 1.0, 'Word distribution per bin')"
      ]
     },
     "execution_count": 55,
     "metadata": {},
     "output_type": "execute_result"
    },
    {
     "data": {
      "image/png": "[encoded data removed]",
      "text/plain": [
       "<Figure size 432x288 with 1 Axes>"
      ]
     },
     "metadata": {
      "needs_background": "light"
     },
     "output_type": "display_data"
    }
   ],
   "source": [
    "sns.barplot(x='bins', y='counts', data=word_distribution).set_title(\"Word distribution per bin\")"
   ]
  },
  {
   "cell_type": "code",
   "execution_count": 91,
   "metadata": {},
   "outputs": [
    {
     "data": {
      "text/plain": [
       "0       [ On days when I feel close to my partner and ...\n",
       "1       Every time I imagine that someone I love or I ...\n",
       "2       When I had been obviously unjustly treated and...\n",
       "3       When I think about the short time that we live...\n",
       "4       At a gathering I found myself involuntarily si...\n",
       "5       When I realized that I was directing the feeli...\n",
       "6       I feel guilty when when I realize that I consi...\n",
       "7       After my girlfriend had taken her exam we went...\n",
       "8       When, for the first time I realized the meanin...\n",
       "9       When a car is overtaking another and I am forc...\n",
       "10      When I recently thought about the hard work it...\n",
       "11        When I found a bristle in the liver paste tube.\n",
       "12      When I was tired and unmotivated, I shouted at...\n",
       "13      When I think that I do not study enough.  Afte...\n",
       "14      When I pass an examination which I did not thi...\n",
       "15      When one has arranged to meet someone and that...\n",
       "16      When one is unjustly accused of something one ...\n",
       "17      When one's studies seem hopelessly difficult a...\n",
       "18      When one finds out that someone you know is no...\n",
       "19      When one has been unjust, stupid towards someo...\n",
       "20      When one has neglected or been unjust to a goo...\n",
       "21              Passing an exam I did not expect to pass.\n",
       "22      When I climbed up a tree to pick apples.  The ...\n",
       "23                           Friends who torture animals.\n",
       "24                                   [ Same as in anger.]\n",
       "25                           Friends who torture animals.\n",
       "26        [ Same as above - friends who torture animals.]\n",
       "27      [ When excuses are necessary and I get out of ...\n",
       "28                                When I had my children.\n",
       "29      When my 2 year old son climbed up and sat on t...\n",
       "                              ...                        \n",
       "7622    I forgot to zip up my trousers, this was not n...\n",
       "7623                                             Peeping.\n",
       "7624    I had a picnic with old classmates, we chatted...\n",
       "7625    At night when I was alone at home (all the fam...\n",
       "7626    When I saw that my bed at the hostel was a mes...\n",
       "7627    During the Physics experiment session I did no...\n",
       "7628    A man sexually aggressed a small girl in the b...\n",
       "7629           Being unable to stop urinating on the bus.\n",
       "7630    There were old people in a crowded bus and I d...\n",
       "7631    It was the first time that I gave a birthday p...\n",
       "7632    It was a week before the higher level results ...\n",
       "7633    The surname of my brother was different from o...\n",
       "7634    When I was in primary 6, my father died.  I wa...\n",
       "7635    At hostel, my roommate was a very selfish pers...\n",
       "7636    My friend had many female friends and I though...\n",
       "7637    In the past I used to think that my mother was...\n",
       "7638    In August,1983, the long awaited \"big envelope...\n",
       "7639    On Christmas eve,1984, I had just finished the...\n",
       "7640    In September 1984, I was forced to live with s...\n",
       "7641    This issue worried me rather than saddening me...\n",
       "7642    My roommate liked to listen to some meaningles...\n",
       "7643    Last Summer I went camping with some C.U stude...\n",
       "7644                    I lied to one of my best friends.\n",
       "7645           I received a letter from a distant friend.\n",
       "7646    My parents were out and I was the eldest at ho...\n",
       "7647    Two years back someone invited me to be the tu...\n",
       "7648    I had taken the responsibility to do something...\n",
       "7649    I was at home and I heard a loud sound of spit...\n",
       "7650    I did not do the homework that the teacher had...\n",
       "7651    I had shouted at my younger brother and he was...\n",
       "Name: content, Length: 7652, dtype: object"
      ]
     },
     "execution_count": 91,
     "metadata": {},
     "output_type": "execute_result"
    }
   ],
   "source": [
    "train_data.content"
   ]
  },
  {
   "cell_type": "code",
   "execution_count": 72,
   "metadata": {},
   "outputs": [
    {
     "data": {
      "text/plain": [
       "7"
      ]
     },
     "execution_count": 72,
     "metadata": {},
     "output_type": "execute_result"
    }
   ],
   "source": [
    "num_class = len(np.unique(train_data.sentiment.values))\n",
    "y = train_data['target'].values\n",
    "num_class"
   ]
  },
  {
   "cell_type": "code",
   "execution_count": 73,
   "metadata": {},
   "outputs": [],
   "source": [
    "MAX_LENGTH = 100\n",
    "tokenizer = Tokenizer()\n",
    "tokenizer.fit_on_texts(train_data.content.values)\n",
    "post_seq = tokenizer.texts_to_sequences(train_data.content.values)\n",
    "post_seq_padded = pad_sequences(post_seq, maxlen=MAX_LENGTH)"
   ]
  },
  {
   "cell_type": "code",
   "execution_count": 74,
   "metadata": {},
   "outputs": [
    {
     "data": {
      "text/plain": [
       "array([3, 6, 4, ..., 0, 4, 0], dtype=int8)"
      ]
     },
     "execution_count": 74,
     "metadata": {},
     "output_type": "execute_result"
    }
   ],
   "source": [
    "X_train, X_test, y_train, y_test = train_test_split(post_seq_padded, y, test_size=0.05)\n",
    "y_train"
   ]
  },
  {
   "cell_type": "code",
   "execution_count": 75,
   "metadata": {},
   "outputs": [],
   "source": [
    "vocab_size = len(tokenizer.word_index) + 1"
   ]
  },
  {
   "cell_type": "code",
   "execution_count": 86,
   "metadata": {},
   "outputs": [
    {
     "name": "stdout",
     "output_type": "stream",
     "text": [
      "_________________________________________________________________\n",
      "Layer (type)                 Output Shape              Param #   \n",
      "=================================================================\n",
      "input_18 (InputLayer)        (None, 100)               0         \n",
      "_________________________________________________________________\n",
      "embedding_18 (Embedding)     (None, 100, 128)          1171840   \n",
      "_________________________________________________________________\n",
      "flatten_18 (Flatten)         (None, 12800)             0         \n",
      "_________________________________________________________________\n",
      "dense_36 (Dense)             (None, 32)                409632    \n",
      "_________________________________________________________________\n",
      "dense_37 (Dense)             (None, 7)                 231       \n",
      "=================================================================\n",
      "Total params: 1,581,703\n",
      "Trainable params: 1,581,703\n",
      "Non-trainable params: 0\n",
      "_________________________________________________________________\n",
      "Train on 5451 samples, validate on 1818 samples\n",
      "Epoch 1/5\n",
      "5451/5451 [==============================] - 3s 554us/step - loss: 1.9409 - acc: 0.1636 - val_loss: 1.9187 - val_acc: 0.1942\n",
      "\n",
      "Epoch 00001: val_acc improved from -inf to 0.19417, saving model to weights-simple.hdf5\n",
      "Epoch 2/5\n",
      "5451/5451 [==============================] - 2s 411us/step - loss: 1.7003 - acc: 0.3759 - val_loss: 1.6042 - val_acc: 0.3955\n",
      "\n",
      "Epoch 00002: val_acc improved from 0.19417 to 0.39549, saving model to weights-simple.hdf5\n",
      "Epoch 3/5\n",
      "5451/5451 [==============================] - 2s 412us/step - loss: 0.9543 - acc: 0.7274 - val_loss: 1.4404 - val_acc: 0.4758\n",
      "\n",
      "Epoch 00003: val_acc improved from 0.39549 to 0.47580, saving model to weights-simple.hdf5\n",
      "Epoch 4/5\n",
      "5451/5451 [==============================] - 2s 415us/step - loss: 0.4450 - acc: 0.8984 - val_loss: 1.4664 - val_acc: 0.4796\n",
      "\n",
      "Epoch 00004: val_acc improved from 0.47580 to 0.47965, saving model to weights-simple.hdf5\n",
      "Epoch 5/5\n",
      "5451/5451 [==============================] - 2s 423us/step - loss: 0.2198 - acc: 0.9595 - val_loss: 1.5593 - val_acc: 0.4747\n",
      "\n",
      "Epoch 00005: val_acc did not improve from 0.47965\n"
     ]
    }
   ],
   "source": [
    "inputs = Input(shape=(MAX_LENGTH, ))\n",
    "embedding_layer = Embedding(vocab_size,\n",
    "                            128,\n",
    "                            input_length=MAX_LENGTH)(inputs)\n",
    "x = Flatten()(embedding_layer)\n",
    "x = Dense(32, activation='relu')(x)\n",
    "\n",
    "predictions = Dense(num_class, activation='softmax')(x)\n",
    "model = Model(inputs=[inputs], outputs=predictions)\n",
    "model.compile(optimizer='adam',\n",
    "              loss='categorical_crossentropy',\n",
    "              metrics=['acc'])\n",
    "\n",
    "model.summary()\n",
    "filepath=\"weights-simple.hdf5\"\n",
    "checkpointer = ModelCheckpoint(filepath, monitor='val_acc', verbose=1, save_best_only=True, mode='max')\n",
    "history = model.fit([X_train], batch_size=64, y=to_categorical(y_train), verbose=1, validation_split=0.25, \n",
    "          shuffle=True, epochs=5, callbacks=[checkpointer])"
   ]
  },
  {
   "cell_type": "code",
   "execution_count": 87,
   "metadata": {},
   "outputs": [
    {
     "data": {
      "image/png": "[encoded data removed]",
      "text/plain": [
       "<Figure size 432x288 with 1 Axes>"
      ]
     },
     "metadata": {
      "needs_background": "light"
     },
     "output_type": "display_data"
    }
   ],
   "source": [
    "df = pd.DataFrame({'epochs':history.epoch, 'accuracy': history.history['acc'], 'validation_accuracy': history.history['val_acc']})\n",
    "g = sns.pointplot(x=\"epochs\", y=\"accuracy\", data=df, fit_reg=False)\n",
    "g = sns.pointplot(x=\"epochs\", y=\"validation_accuracy\", data=df, fit_reg=False, color='green')"
   ]
  },
  {
   "cell_type": "code",
   "execution_count": 88,
   "metadata": {},
   "outputs": [
    {
     "data": {
      "text/plain": [
       "0.48825065274151436"
      ]
     },
     "execution_count": 88,
     "metadata": {},
     "output_type": "execute_result"
    }
   ],
   "source": [
    "predicted = model.predict(X_test)\n",
    "predicted = np.argmax(predicted, axis=1)\n",
    "accuracy_score(y_test, predicted)"
   ]
  },
  {
   "cell_type": "code",
   "execution_count": 89,
   "metadata": {},
   "outputs": [
    {
     "data": {
      "text/plain": [
       "array([1, 2, 4, 0, 4, 6, 5, 0, 6, 0, 5, 5, 1, 0, 0, 3, 5, 1, 1, 2, 3, 3,\n",
       "       1, 0, 2, 5, 4, 2, 1, 3, 6, 0, 2, 5, 6, 4, 0, 6, 5, 3, 1, 4, 1, 5,\n",
       "       3, 5, 6, 1, 4, 4, 2, 0, 6, 3, 1, 5, 1, 3, 5, 6, 2, 4, 2, 1, 0, 1,\n",
       "       2, 2, 3, 3, 2, 0, 4, 4, 4, 3, 6, 1, 3, 3, 5, 0, 1, 0, 5, 6, 2, 0,\n",
       "       2, 2, 5, 4, 3, 3, 5, 3, 3, 3, 2, 5, 4, 2, 4, 2, 5, 1, 6, 5, 6, 5,\n",
       "       1, 1, 2, 2, 5, 5, 6, 2, 4, 4, 6, 0, 6, 5, 5, 2, 5, 6, 6, 5, 2, 0,\n",
       "       4, 4, 4, 4, 2, 2, 4, 3, 2, 5, 3, 6, 1, 4, 1, 4, 2, 4, 2, 5, 5, 0,\n",
       "       3, 4, 3, 4, 4, 3, 4, 1, 5, 1, 5, 6, 5, 5, 6, 3, 0, 2, 2, 6, 5, 0,\n",
       "       4, 5, 6, 4, 4, 0, 3, 4, 0, 5, 1, 0, 0, 4, 2, 0, 1, 5, 0, 4, 2, 0,\n",
       "       0, 5, 1, 2, 4, 0, 6, 1, 2, 4, 1, 0, 0, 6, 5, 6, 2, 6, 2, 2, 4, 0,\n",
       "       2, 3, 6, 6, 1, 3, 5, 2, 4, 4, 2, 4, 1, 3, 2, 2, 5, 3, 4, 3, 6, 2,\n",
       "       6, 1, 1, 3, 6, 1, 1, 4, 2, 1, 3, 5, 2, 6, 3, 6, 3, 2, 2, 2, 1, 3,\n",
       "       4, 5, 6, 1, 6, 4, 2, 3, 1, 5, 4, 5, 3, 5, 0, 3, 4, 6, 6, 2, 2, 5,\n",
       "       2, 2, 5, 1, 6, 3, 2, 5, 3, 4, 0, 6, 5, 5, 1, 1, 1, 5, 6, 0, 6, 4,\n",
       "       6, 4, 2, 0, 4, 0, 2, 6, 6, 4, 5, 4, 6, 1, 2, 3, 5, 3, 4, 6, 2, 5,\n",
       "       2, 4, 3, 1, 4, 2, 1, 2, 3, 3, 6, 1, 2, 4, 2, 5, 3, 6, 0, 4, 1, 0,\n",
       "       3, 3, 2, 6, 4, 2, 2, 5, 6, 4, 2, 5, 1, 4, 1, 2, 4, 3, 4, 6, 5, 0,\n",
       "       1, 5, 4, 0, 0, 1, 4, 3, 6], dtype=int64)"
      ]
     },
     "execution_count": 89,
     "metadata": {},
     "output_type": "execute_result"
    }
   ],
   "source": [
    "predicted"
   ]
  },
  {
   "cell_type": "code",
   "execution_count": 90,
   "metadata": {},
   "outputs": [
    {
     "data": {
      "text/plain": [
       "array([1, 2, 4, 3, 4, 3, 5, 0, 6, 3, 0, 4, 1, 6, 0, 6, 0, 1, 1, 2, 0, 3,\n",
       "       1, 4, 2, 5, 4, 2, 1, 3, 3, 0, 2, 6, 2, 4, 0, 2, 5, 3, 4, 1, 4, 5,\n",
       "       2, 1, 6, 6, 4, 0, 4, 5, 0, 6, 1, 6, 3, 3, 3, 5, 4, 4, 4, 0, 1, 2,\n",
       "       2, 1, 6, 0, 2, 3, 4, 4, 5, 2, 6, 2, 4, 0, 5, 1, 1, 0, 5, 6, 2, 0,\n",
       "       3, 2, 5, 0, 4, 6, 0, 1, 6, 1, 2, 1, 2, 2, 4, 2, 3, 6, 6, 1, 6, 0,\n",
       "       1, 3, 2, 2, 5, 5, 6, 2, 4, 6, 6, 0, 6, 5, 5, 6, 4, 6, 1, 5, 2, 0,\n",
       "       4, 2, 1, 1, 1, 2, 1, 0, 2, 5, 2, 6, 6, 6, 1, 1, 2, 4, 2, 5, 2, 3,\n",
       "       0, 4, 3, 5, 5, 3, 4, 1, 5, 6, 5, 3, 2, 0, 3, 3, 3, 2, 2, 0, 5, 1,\n",
       "       4, 1, 0, 4, 6, 2, 3, 6, 1, 4, 0, 5, 0, 4, 4, 6, 4, 3, 6, 0, 0, 0,\n",
       "       6, 5, 1, 2, 5, 5, 2, 0, 2, 4, 1, 0, 1, 6, 2, 4, 6, 5, 5, 2, 3, 0,\n",
       "       2, 3, 6, 6, 1, 3, 0, 2, 2, 0, 2, 4, 1, 3, 2, 2, 5, 3, 4, 3, 0, 1,\n",
       "       5, 0, 1, 3, 6, 0, 6, 4, 2, 1, 5, 5, 2, 0, 2, 3, 3, 3, 2, 5, 3, 3,\n",
       "       4, 5, 3, 0, 6, 3, 2, 0, 2, 6, 4, 4, 3, 0, 2, 6, 4, 0, 0, 2, 6, 5,\n",
       "       2, 5, 6, 3, 2, 5, 2, 1, 6, 5, 5, 3, 0, 3, 1, 5, 1, 5, 0, 0, 4, 4,\n",
       "       4, 4, 2, 0, 2, 1, 2, 1, 0, 4, 5, 4, 0, 1, 2, 5, 4, 0, 5, 6, 2, 1,\n",
       "       5, 4, 6, 3, 4, 6, 1, 2, 3, 3, 0, 6, 1, 2, 5, 2, 2, 6, 3, 4, 3, 0,\n",
       "       6, 3, 1, 5, 0, 2, 2, 5, 1, 0, 2, 5, 1, 4, 1, 2, 1, 0, 4, 5, 5, 0,\n",
       "       0, 5, 0, 3, 1, 1, 4, 5, 6], dtype=int8)"
      ]
     },
     "execution_count": 90,
     "metadata": {},
     "output_type": "execute_result"
    }
   ],
   "source": [
    "y_test"
   ]
  },
  {
   "cell_type": "code",
   "execution_count": null,
   "metadata": {},
   "outputs": [],
   "source": []
  }
 ],
 "metadata": {
  "colab": {
   "include_colab_link": true,
   "name": "Untitled0.ipynb",
   "provenance": [],
   "version": "0.3.2"
  },
  "kernelspec": {
   "display_name": "Python 3",
   "language": "python",
   "name": "python3"
  },
  "language_info": {
   "codemirror_mode": {
    "name": "ipython",
    "version": 3
   },
   "file_extension": ".py",
   "mimetype": "text/x-python",
   "name": "python",
   "nbconvert_exporter": "python",
   "pygments_lexer": "ipython3",
   "version": "3.6.6"
  }
 },
 "nbformat": 4,
 "nbformat_minor": 1
}
